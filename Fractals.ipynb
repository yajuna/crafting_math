{
 "cells": [
  {
   "cell_type": "markdown",
   "metadata": {},
   "source": [
    "# In this notebook, we plot beautiful fractals. The main reference and code are from\n",
    "https://matplotlib.org/matplotblog/posts/animated-fractals/"
   ]
  },
  {
   "cell_type": "code",
   "execution_count": null,
   "metadata": {},
   "outputs": [],
   "source": [
    "import numpy as np\n",
    "import scipy as sp\n",
    "import matplotlib \n",
    "import matplotlib.pyplot as plt\n",
    "import matplotlib.animation as animation\n",
    "\n",
    "## for math display\n",
    "from IPython.display import display, Markdown\n",
    "\n",
    "## check versions of above packages\n",
    "print(np.version.version,\"\\n\", sp.__version__,\"\\n\", matplotlib.__version__)\n"
   ]
  },
  {
   "cell_type": "markdown",
   "metadata": {},
   "source": [
    "## We will first plot the _Mandelbrot Set_. It consists of all complex numbers $c$, such that the sequence $z_{i+1} = z_i^2 + c$, $z_0 = 0$ is bounded. It means, after a certain number of iterations the absolute value must not exceed a given limit. "
   ]
  },
  {
   "cell_type": "code",
   "execution_count": null,
   "metadata": {},
   "outputs": [],
   "source": [
    "def mandelbrot(x, y, threshold):\n",
    "    \"\"\"Calculates whether the number c = x + i*y belongs to the \n",
    "    Mandelbrot set. In order to belong, the sequence z[i + 1] = z[i]**2 + c\n",
    "    must not diverge after 'threshold' number of steps. The sequence diverges\n",
    "    if the absolute value of z[i+1] is greater than 4.\n",
    "    \n",
    "    :param float x: the x component of the initial complex number\n",
    "    :param float y: the y component of the initial complex number\n",
    "    :param int threshold: the number of iterations to considered it converged\n",
    "    \"\"\"\n",
    "    # initial conditions\n",
    "    c = complex(x, y)\n",
    "    z = complex(0, 0)\n",
    "    \n",
    "    for i in range(threshold):\n",
    "        z = z**2 + c\n",
    "        if abs(z) > 4.:  # it diverged\n",
    "            return i\n",
    "        \n",
    "    return threshold - 1  # it didn't diverge"
   ]
  },
  {
   "cell_type": "code",
   "execution_count": null,
   "metadata": {},
   "outputs": [],
   "source": [
    "x_start, y_start = -2, -1.5  # an interesting region starts here\n",
    "width, height = 3, 3  # for 3 units up and right\n",
    "density_per_unit = 250  # how many pixles per unit\n",
    "\n",
    "# real and imaginary axis\n",
    "re = np.linspace(x_start, x_start + width, width * density_per_unit )\n",
    "im = np.linspace(y_start, y_start + height, height * density_per_unit)\n",
    "\n",
    "fig = plt.figure(figsize=(10, 10))  # instantiate a figure to draw\n",
    "ax = plt.axes()  # create an axes object\n",
    "\n",
    "def animate(i):\n",
    "    ax.clear()  # clear axes object\n",
    "    ax.set_xticks([], [])  # clear x-axis ticks\n",
    "    ax.set_yticks([], [])  # clear y-axis ticks\n",
    "    \n",
    "    X = np.empty((len(re), len(im)))  # re-initialize the array-like image\n",
    "    threshold = round(1.15**(i + 1))  # calculate the current threshold\n",
    "    \n",
    "    # iterations for the current threshold\n",
    "    for i in range(len(re)):\n",
    "        for j in range(len(im)):\n",
    "            X[i, j] = mandelbrot(re[i], im[j], threshold)\n",
    "    \n",
    "    # associate colors to the iterations with an iterpolation\n",
    "    img = ax.imshow(X.T, interpolation=\"bicubic\", cmap='magma')\n",
    "    return [img]\n",
    " \n",
    "anim = animation.FuncAnimation(fig, animate, frames=45, interval=120, blit=True)\n",
    "anim.save('mandelbrot.gif',writer='imagemagick')"
   ]
  },
  {
   "cell_type": "markdown",
   "metadata": {},
   "source": [
    "## Here we plot the _Julia set_. Instead of setting $z_0 = 0$ and testing whether for some complex number $c = x + iy$ the sequence $z_{i+1} = z_i^2 + c$ is bounded, we fix the value for $c$, we set an arbitrary initial condition $z_0 = x + iy$, and we observe the convergence of the sequence."
   ]
  },
  {
   "cell_type": "code",
   "execution_count": null,
   "metadata": {},
   "outputs": [],
   "source": [
    "def julia_quadratic(zx, zy, cx, cy, threshold):\n",
    "    \"\"\"Calculates whether the number z[0] = zx + i*zy with a constant c = x + i*y\n",
    "    belongs to the Julia set. In order to belong, the sequence \n",
    "    z[i + 1] = z[i]**2 + c, must not diverge after 'threshold' number of steps.\n",
    "    The sequence diverges if the absolute value of z[i+1] is greater than 4.\n",
    "    \n",
    "    :param float zx: the x component of z[0]\n",
    "    :param float zy: the y component of z[0]\n",
    "    :param float cx: the x component of the constant c\n",
    "    :param float cy: the y component of the constant c\n",
    "    :param int threshold: the number of iterations to considered it converged\n",
    "    \"\"\"\n",
    "    # initial conditions\n",
    "    z = complex(zx, zy)\n",
    "    c = complex(cx, cy)\n",
    "    \n",
    "    for i in range(threshold):\n",
    "        z = z**2 + c\n",
    "        if abs(z) > 4.:  # it diverged\n",
    "            return i\n",
    "        \n",
    "    return threshold - 1  # it didn't diverge"
   ]
  },
  {
   "cell_type": "code",
   "execution_count": null,
   "metadata": {},
   "outputs": [],
   "source": [
    "x_start, y_start = -2, -2  # an interesting region starts here\n",
    "width, height = 4, 4  # for 4 units up and right\n",
    "density_per_unit = 200  # how many pixles per unit\n",
    "\n",
    "# real and imaginary axis\n",
    "re = np.linspace(x_start, x_start + width, width * density_per_unit )\n",
    "im = np.linspace(y_start, y_start + height, height * density_per_unit)\n",
    "\n",
    "\n",
    "threshold = 20  # max allowed iterations\n",
    "frames = 100  # number of frames in the animation\n",
    "\n",
    "# we represent c as c = r*cos(a) + i*r*sin(a) = r*e^{i*a}\n",
    "r = 0.7885\n",
    "a = np.linspace(0, 2*np.pi, frames)\n",
    "\n",
    "fig = plt.figure(figsize=(10, 10))  # instantiate a figure to draw\n",
    "ax = plt.axes()  # create an axes object\n",
    "\n",
    "def animate(i):\n",
    "    ax.clear()  # clear axes object\n",
    "    ax.set_xticks([], [])  # clear x-axis ticks\n",
    "    ax.set_yticks([], [])  # clear y-axis ticks\n",
    "    \n",
    "    X = np.empty((len(re), len(im)))  # the initial array-like image\n",
    "    cx, cy = r * np.cos(a[i]), r * np.sin(a[i])  # the initial c number\n",
    "    \n",
    "    # iterations for the given threshold\n",
    "    for i in range(len(re)):\n",
    "        for j in range(len(im)):\n",
    "            X[i, j] = julia_quadratic(re[i], im[j], cx, cy, threshold)\n",
    "    \n",
    "    img = ax.imshow(X.T, interpolation=\"bicubic\", cmap='magma')\n",
    "    return [img]\n",
    "\n",
    "anim = animation.FuncAnimation(fig, animate, frames=frames, interval=50, blit=True)\n",
    "anim.save('julia_set.gif', writer='imagemagick')"
   ]
  },
  {
   "cell_type": "code",
   "execution_count": null,
   "metadata": {},
   "outputs": [],
   "source": []
  }
 ],
 "metadata": {
  "kernelspec": {
   "display_name": "Python 3",
   "language": "python",
   "name": "python3"
  },
  "language_info": {
   "codemirror_mode": {
    "name": "ipython",
    "version": 3
   },
   "file_extension": ".py",
   "mimetype": "text/x-python",
   "name": "python",
   "nbconvert_exporter": "python",
   "pygments_lexer": "ipython3",
   "version": "3.7.4"
  }
 },
 "nbformat": 4,
 "nbformat_minor": 5
}
