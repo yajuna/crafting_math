{
  "nbformat": 4,
  "nbformat_minor": 0,
  "metadata": {
    "accelerator": "GPU",
    "colab": {
      "provenance": []
    },
    "kernelspec": {
      "display_name": "Python 3",
      "name": "python3"
    }
  },
  "cells": [
    {
      "cell_type": "markdown",
      "metadata": {
        "id": "view-in-github"
      },
      "source": [
        "<a target=\"_blank\" href=\"https://colab.research.google.com/github/yajuna/crafting_math/blob/master/GenerateSongsFromLearningLyrics.ipynb\">\n",
        "  <img src=\"https://colab.research.google.com/assets/colab-badge.svg\" alt=\"Open In Colab\"/>\n",
        "</a>"
      ]
    },
    {
      "cell_type": "markdown",
      "source": [
        "This notebook is modified from the Google colab notebook for NLP. You can find a playlist of videos on NLP here: \n",
        "https://www.youtube.com/playlist?list=PLQY2H8rRoyvzDbLUZkbudP-MFQZwNmU4S\n",
        "\n",
        "The original notebook is linked under the Part 6 video (Training an AI to create poetry).\n"
      ],
      "metadata": {
        "id": "-CyhnfOqJVTo"
      }
    },
    {
      "cell_type": "code",
      "metadata": {
        "id": "BOwsuGQQY9OL"
      },
      "source": [
        "import tensorflow as tf\n",
        "\n",
        "from tensorflow.keras.preprocessing.sequence import pad_sequences\n",
        "from tensorflow.keras.layers import Embedding, LSTM, Dense, Bidirectional\n",
        "from tensorflow.keras.preprocessing.text import Tokenizer\n",
        "from tensorflow.keras.models import Sequential\n",
        "from tensorflow.keras.optimizers import Adam\n",
        "import numpy as np "
      ],
      "execution_count": 1,
      "outputs": []
    },
    {
      "cell_type": "markdown",
      "source": [
        "Download and install required packages for data"
      ],
      "metadata": {
        "id": "hEYjBYnGECGv"
      }
    },
    {
      "cell_type": "code",
      "source": [
        "!pip install opendatasets\n",
        "!pip install pandas"
      ],
      "metadata": {
        "colab": {
          "base_uri": "https://localhost:8080/"
        },
        "id": "qtdkxJ6OEJOI",
        "outputId": "ee116a57-2589-4e43-e859-1b573c95d424"
      },
      "execution_count": 2,
      "outputs": [
        {
          "output_type": "stream",
          "name": "stdout",
          "text": [
            "Looking in indexes: https://pypi.org/simple, https://us-python.pkg.dev/colab-wheels/public/simple/\n",
            "Collecting opendatasets\n",
            "  Downloading opendatasets-0.1.22-py3-none-any.whl (15 kB)\n",
            "Requirement already satisfied: tqdm in /usr/local/lib/python3.10/dist-packages (from opendatasets) (4.65.0)\n",
            "Requirement already satisfied: kaggle in /usr/local/lib/python3.10/dist-packages (from opendatasets) (1.5.13)\n",
            "Requirement already satisfied: click in /usr/local/lib/python3.10/dist-packages (from opendatasets) (8.1.3)\n",
            "Requirement already satisfied: six>=1.10 in /usr/local/lib/python3.10/dist-packages (from kaggle->opendatasets) (1.16.0)\n",
            "Requirement already satisfied: certifi in /usr/local/lib/python3.10/dist-packages (from kaggle->opendatasets) (2022.12.7)\n",
            "Requirement already satisfied: python-dateutil in /usr/local/lib/python3.10/dist-packages (from kaggle->opendatasets) (2.8.2)\n",
            "Requirement already satisfied: requests in /usr/local/lib/python3.10/dist-packages (from kaggle->opendatasets) (2.27.1)\n",
            "Requirement already satisfied: python-slugify in /usr/local/lib/python3.10/dist-packages (from kaggle->opendatasets) (8.0.1)\n",
            "Requirement already satisfied: urllib3 in /usr/local/lib/python3.10/dist-packages (from kaggle->opendatasets) (1.26.15)\n",
            "Requirement already satisfied: text-unidecode>=1.3 in /usr/local/lib/python3.10/dist-packages (from python-slugify->kaggle->opendatasets) (1.3)\n",
            "Requirement already satisfied: charset-normalizer~=2.0.0 in /usr/local/lib/python3.10/dist-packages (from requests->kaggle->opendatasets) (2.0.12)\n",
            "Requirement already satisfied: idna<4,>=2.5 in /usr/local/lib/python3.10/dist-packages (from requests->kaggle->opendatasets) (3.4)\n",
            "Installing collected packages: opendatasets\n",
            "Successfully installed opendatasets-0.1.22\n",
            "Looking in indexes: https://pypi.org/simple, https://us-python.pkg.dev/colab-wheels/public/simple/\n",
            "Requirement already satisfied: pandas in /usr/local/lib/python3.10/dist-packages (1.5.3)\n",
            "Requirement already satisfied: python-dateutil>=2.8.1 in /usr/local/lib/python3.10/dist-packages (from pandas) (2.8.2)\n",
            "Requirement already satisfied: pytz>=2020.1 in /usr/local/lib/python3.10/dist-packages (from pandas) (2022.7.1)\n",
            "Requirement already satisfied: numpy>=1.21.0 in /usr/local/lib/python3.10/dist-packages (from pandas) (1.22.4)\n",
            "Requirement already satisfied: six>=1.5 in /usr/local/lib/python3.10/dist-packages (from python-dateutil>=2.8.1->pandas) (1.16.0)\n"
          ]
        }
      ]
    },
    {
      "cell_type": "markdown",
      "source": [
        "Import library and download data from Kaggle. Here we use the 21 pilots songs for lyrics prediction NLP at \n",
        "\n",
        "https://www.kaggle.com/datasets/cosmosankur/21-pilots-songs-for-lyrics-prediction-nlp\n",
        "\n",
        "For datasets on Kaggle, you will need a token from Kaggle, via My Profile--> Account--> API-->Create New Token"
      ],
      "metadata": {
        "id": "vQKxF9TyE3vt"
      }
    },
    {
      "cell_type": "code",
      "source": [
        "import opendatasets as od\n",
        "import pandas \n",
        "print(pandas.__version__)"
      ],
      "metadata": {
        "colab": {
          "base_uri": "https://localhost:8080/"
        },
        "id": "MTIcqMC9E8uk",
        "outputId": "e29ee737-db69-4e91-c2ac-fed9ef1f6b70"
      },
      "execution_count": 3,
      "outputs": [
        {
          "output_type": "stream",
          "name": "stdout",
          "text": [
            "1.5.3\n"
          ]
        }
      ]
    },
    {
      "cell_type": "markdown",
      "source": [
        "Take .csv file in a github repository (url when file viewed as RAW). \n",
        "\n",
        "Save column containing lyrics as one text file."
      ],
      "metadata": {
        "id": "eGyuso_-Q-uG"
      }
    },
    {
      "cell_type": "code",
      "metadata": {
        "id": "pylt5qZYsWPh",
        "colab": {
          "base_uri": "https://localhost:8080/"
        },
        "outputId": "2c8d8520-32d7-458d-bb09-7c59eaf14489"
      },
      "source": [
        "### Use data in .csv files in github repo\n",
        "\n",
        "url = 'https://raw.githubusercontent.com/yajuna/crafting_math/master/radiohead.csv'\n",
        "df = pandas.read_csv(url, encoding = 'cp1252') # \n",
        "\n",
        "print(df[\"lyrics\"][0])\n",
        "\n",
        "df[\"lyrics\"].to_csv('lyrics.txt', sep = \"\\n\", index = False, header = False)\n",
        "\n",
        "\n",
        "\n",
        "### Irish song lyrics\n",
        "# !wget --no-check-certificate \\\n",
        "#     https://storage.googleapis.com/learning-datasets/irish-lyrics-eof.txt \\\n",
        "#     -O /tmp/irish-lyrics-eof.txt\n",
        "\n"
      ],
      "execution_count": 4,
      "outputs": [
        {
          "output_type": "stream",
          "name": "stdout",
          "text": [
            "you are the sun and moon and stars are you and i could never run away from you you try at working out chaotic things and why should i believe myself not you it's like the world is going to end so soon and why should i believe myself aaaaaaaaah ha hooooooo you me and everything caught in the fire i can see me drowning caught in the fire you me and everything caught in the fire i can see me drowning caught in the fire\n"
          ]
        }
      ]
    },
    {
      "cell_type": "code",
      "metadata": {
        "id": "PRnDnCW-Z7qv",
        "colab": {
          "base_uri": "https://localhost:8080/"
        },
        "outputId": "62bd55e8-a23c-402c-e531-f05976cbea90"
      },
      "source": [
        "tokenizer = Tokenizer()\n",
        "\n",
        "# read irish lyrics for song prediction\n",
        "# data = open('/tmp/irish-lyrics-eof.txt').read()\n",
        "\n",
        "data = open('/content/lyrics.txt').read()\n",
        "\n",
        "corpus = data.lower().split(\"\\n\")\n",
        "\n",
        "tokenizer.fit_on_texts(corpus)\n",
        "total_words = len(tokenizer.word_index) + 1\n",
        "\n",
        "print(tokenizer.word_index)\n",
        "print(total_words)\n"
      ],
      "execution_count": 5,
      "outputs": [
        {
          "output_type": "stream",
          "name": "stdout",
          "text": [
            "{'the': 1, 'you': 2, 'i': 3, 'and': 4, 'no': 5, 'a': 6, 'me': 7, 'to': 8, 'in': 9, 'your': 10, 'it': 11, 'all': 12, 'my': 13, 'up': 14, \"don't\": 15, 'of': 16, 'on': 17, \"i'm\": 18, 'is': 19, 'we': 20, 'out': 21, 'are': 22, 'be': 23, 'can': 24, 'that': 25, 'will': 26, 'not': 27, 'but': 28, 'down': 29, \"it's\": 30, 'get': 31, 'this': 32, 'what': 33, 'rain': 34, 'just': 35, 'off': 36, 'like': 37, 'do': 38, 'with': 39, 'when': 40, 'there': 41, 'know': 42, 'they': 43, 'got': 44, 'drops': 45, 'want': 46, 'so': 47, 'here': 48, \"you're\": 49, 'for': 50, 'one': 51, 'where': 52, 'into': 53, 'back': 54, \"you've\": 55, 'at': 56, 'around': 57, 'let': 58, \"can't\": 59, 'from': 60, 'if': 61, 'everything': 62, 'nothing': 63, 'come': 64, 'now': 65, 'yourself': 66, 'take': 67, 'see': 68, 'feel': 69, 'as': 70, 'should': 71, 'again': 72, \"i'll\": 73, 'over': 74, 'arms': 75, 'never': 76, 'am': 77, 'love': 78, 'time': 79, 'broken': 80, 'really': 81, 'mess': 82, 'have': 83, 'go': 84, 'think': 85, 'children': 86, 'by': 87, 'why': 88, 'eyes': 89, 'little': 90, 'was': 91, 'how': 92, 'man': 93, 'been': 94, 'enough': 95, 'case': 96, 'coming': 97, 'good': 98, 'alive': 99, 'truth': 100, 'try': 101, 'world': 102, 'he': 103, 'best': 104, 'first': 105, 'better': 106, \"there's\": 107, 'wrong': 108, 'gonna': 109, 'leave': 110, 'make': 111, 'dream': 112, \"we're\": 113, 'head': 114, 'lost': 115, 'don’t': 116, 'wish': 117, 'more': 118, 'right': 119, 'walking': 120, 'an': 121, 'keep': 122, 'could': 123, 'away': 124, 'myself': 125, 'end': 126, 'us': 127, \"you'll\": 128, 'nice': 129, 'light': 130, 'hearts': 131, 'before': 132, 'our': 133, 'had': 134, 'day': 135, 'wake': 136, 'only': 137, 'eat': 138, 'hurt': 139, 'run': 140, 'chorus': 141, 'oh': 142, 'sit': 143, 'dead': 144, \"i'd\": 145, \"that's\": 146, 'release': 147, 'paying': 148, 'attention': 149, 'haunt': 150, 'efil': 151, 'ym': 152, 'fo': 153, 'fla': 154, 'h': 155, \"won't\": 156, 'something': 157, \"i've\": 158, 'even': 159, 'cause': 160, 'another': 161, 'times': 162, 'uptight': 163, 'messed': 164, 'who': 165, 'say': 166, 'stop': 167, 'about': 168, 'still': 169, 'wanna': 170, 'home': 171, 'comes': 172, 'inside': 173, 'well': 174, 'yeah': 175, 'then': 176, 'open': 177, 'walls': 178, 'place': 179, 'things': 180, 'look': 181, 'always': 182, 'face': 183, 'mean': 184, 'prove': 185, 'falling': 186, 'its': 187, 'or': 188, 'living': 189, 'message': 190, 'maybe': 191, 'lies': 192, 'put': 193, \"there'll\": 194, 'moon': 195, 'hell': 196, 'turn': 197, 'standing': 198, 'free': 199, 'ripcord': 200, 'might': 201, 'wears': 202, 'slow': 203, 'read': 204, 'cut': 205, 'ringing': 206, \"he's\": 207, 'him': 208, 'gone': 209, 'everyone': 210, 'stay': 211, 'dry': 212, 'waiting': 213, 'her': 214, 'she': 215, 'else': 216, 'laugh': 217, 'way': 218, 'quiet': 219, 'doors': 220, 'his': 221, 'forget': 222, 'friends': 223, 'bed': 224, 'happen': 225, 'live': 226, 'used': 227, 'hanging': 228, 'life': 229, 'too': 230, 'blame': 231, 'shadows': 232, 'seen': 233, 'reasonable': 234, 'denial': 235, 'soul': 236, 'running': 237, 'because': 238, 'start': 239, 'words': 240, 'need': 241, 'please': 242, 'tried': 243, 'every': 244, 'burn': 245, 'give': 246, 'thing': 247, 'would': 248, 'sea': 249, 'high': 250, 'pretty': 251, 'ever': 252, 'fall': 253, 'burst': 254, 'stand': 255, 'big': 256, 'breathing': 257, 'such': 258, 'somewhere': 259, 'house': 260, 'alarms': 261, 'surprises': 262, 'round': 263, 'sweet': 264, 'fire': 265, 'belong': 266, 'wants': 267, 'these': 268, 'hand': 269, 'though': 270, 'wrapped': 271, 'weird': 272, 'real': 273, 'sky': 274, 'two': 275, 'has': 276, 'through': 277, 'suck': 278, 'black': 279, 'car': 280, 'kids': 281, 'heart': 282, 'holding': 283, 'red': 284, 'did': 285, 'bend': 286, 'reach': 287, 'dance': 288, 'upon': 289, 'care': 290, 'body': 291, \"they're\": 292, 'other': 293, 'sleep': 294, 'heaven': 295, 'until': 296, 'fear': 297, 'bones': 298, 'tell': 299, 'killing': 300, 'ones': 301, 'earth': 302, 'full': 303, 'help': 304, 'their': 305, 'last': 306, 'bulletproof': 307, 'sometimes': 308, 'god': 309, 'blue': 310, 'born': 311, 'morning': 312, 'escape': 313, 'choke': 314, 'ghost': 315, 'happening': 316, 'half': 317, 'crazy': 318, 'someone': 319, 'fell': 320, 'mine': 321, 'set': 322, 'stars': 323, 'float': 324, 'pre': 325, 'special': 326, 'control': 327, 'happy': 328, 'listen': 329, 'whispering': 330, 'shouting': 331, 'some': 332, 'remember': 333, \"doesn't\": 334, 'thinking': 335, 'rest': 336, 'people': 337, 'guitar': 338, 'grow': 339, 'hour': 340, \"we'll\": 341, 'any': 342, 'breathe': 343, 'thought': 344, 'mind': 345, 'turns': 346, \"baby's\": 347, 'human': 348, 'headshrinkers': 349, 'uncle': 350, 'bill': 351, 'belisha': 352, 'beacon': 353, 'song': 354, 'fade': 355, 'under': 356, 'height': 357, 'much': 358, 'meet': 359, 'tonight': 360, 'follow': 361, 'went': 362, 'allowed': 363, 'horses': 364, 'once': 365, 'course': 366, 'myxomatosis': 367, 'makes': 368, 'hurts': 369, 'hear': 370, 'spit': 371, 'matter': 372, 'wall': 373, 'instrumental': 374, 'does': 375, 'long': 376, 'bridge': 377, 'doubt': 378, 'strong': 379, 'blow': 380, 'crack': 381, 'window': 382, 'blood': 383, 'wash': 384, 'hide': 385, 'feed': 386, 'talking': 387, 'race': 388, 'ground': 389, 'talk': 390, 'green': 391, 'young': 392, 'change': 393, 'great': 394, 'panic': 395, 'late': 396, 'wings': 397, 'empty': 398, 'cat': 399, 'stick': 400, 'ice': 401, 'hit': 402, 'alarm': 403, \"who's\": 404, 'edge': 405, 'hey': 406, 'white': 407, 'while': 408, 'side': 409, 'fantasy': 410, 'bunker': 411, 'throw': 412, 'years': 413, 'left': 414, 'land': 415, 'anytime': 416, 'lonely': 417, 'cards': 418, 'giant': 419, 'fishes': 420, 'bottom': 421, 'goes': 422, 'hook': 423, 'ha': 424, 'caught': 425, 'were': 426, 'eye': 427, 'doing': 428, \"she's\": 429, 'whatever': 430, 'baby': 431, 'show': 432, 'said': 433, 'star': 434, 'far': 435, 'feet': 436, 'confusion': 437, 'anyone': 438, 'inevitable': 439, 'drop': 440, 'understand': 441, 'wanted': 442, 'waters': 443, 'pay': 444, 'nowhere': 445, 'keeps': 446, 'pills': 447, 'stone': 448, 'walk': 449, 'alone': 450, 'asleep': 451, 'against': 452, 'lying': 453, 'kill': 454, 'pieces': 455, 'plastic': 456, 'town': 457, 'call': 458, 'friend': 459, 'days': 460, 'speak': 461, 'frightened': 462, 'them': 463, 'money': 464, 'hole': 465, 'ah': 466, 'sulk': 467, 'already': 468, 'interstellar': 469, 'save': 470, 'universe': 471, \"what's\": 472, 'name': 473, 'guess': 474, 'lock': 475, \"they'd\": 476, 'today': 477, 'sing': 478, 'hope': 479, 'hysterical': 480, 'minute': 481, 'chance': 482, 'tied': 483, 'frozen': 484, 'forwards': 485, 'backwards': 486, 'climbing': 487, 'pull': 488, 'kid': 489, 'yesterday': 490, 'woke': 491, 'sucking': 492, 'lemon': 493, \"we've\": 494, 'heads': 495, 'lights': 496, 'fish': 497, 'came': 498, 'dinosaurs': 499, 'age': 500, 'bell': 501, 'furniture': 502, \"where'd\": 503, 'park': 504, 'after': 505, 'river': 506, 'eyed': 507, 'ride': 508, 'mouth': 509, 'souls': 510, 'glass': 511, 'chat': 512, 'i’m': 513, 'shoulder': 514, 'tongue': 515, 'reason': 516, 'scatterbrain': 517, 'flan': 518, 'calls': 519, 'string': 520, 'done': 521, 'trapped': 522, 'na': 523, \"they've\": 524, 'ought': 525, 'ears': 526, 'videotape': 527, 'crook': 528, 'flowers': 529, 'carrying': 530, 'witch': 531, 'possible': 532, 'messing': 533, 'create': 534, 'believe': 535, 'going': 536, 'skin': 537, 'cry': 538, 'beautiful': 539, \"fuckin'\": 540, 'creep': 541, 'weirdo': 542, 'perfect': 543, 'turned': 544, 'lives': 545, 'anyway': 546, 'voice': 547, 'feeling': 548, 'find': 549, 'kiss': 550, 'break': 551, 'destiny': 552, 'protect': 553, 'anywhere': 554, 'burns': 555, 'play': 556, 'anymore': 557, 'hair': 558, 'power': 559, 'hard': 560, \"wasn't\": 561, 'many': 562, 'cotton': 563, 'wool': 564, 'sugar': 565, 'coated': 566, 'force': 567, 'crush': 568, 'near': 569, 'rules': 570, 'bends': 571, 'low': 572, 'whole': 573, 'part': 574, 'beneath': 575, \"you'd\": 576, 'broke': 577, 'turning': 578, 'fake': 579, 'rubber': 580, 'cracked': 581, 'knees': 582, 'crawling': 583, 'hands': 584, \"'round\": 585, 'door': 586, 'iron': 587, 'lung': 588, 'century': 589, 'fill': 590, 'satellite': 591, 'beams': 592, 'loving': 593, 'dad': 594, 'swallow': 595, 'birds': 596, 'next': 597, 'deep': 598, 'innocent': 599, 'fast': 600, 'smell': 601, 'watch': 602, 'drill': 603, 'holes': 604, 'night': 605, 'finally': 606, 'lose': 607, 'nerve': 608, 'peace': 609, 'crushed': 610, 'bug': 611, 'floating': 612, 'karma': 613, 'police': 614, 'given': 615, 'longer': 616, 'self': 617, 'business': 618, 'fifteen': 619, 'blows': 620, 'job': 621, 'slowly': 622, 'lake': 623, 'idiot': 624, 'slip': 625, \"isn't\": 626, 'flies': 627, 'animal': 628, 'roaming': 629, 'irish': 630, 'both': 631, 'clothes': 632, 'begin': 633, 'knives': 634, 'pot': 635, 'dollars': 636, 'cents': 637, 'pounds': 638, 'pence': 639, 'hail': 640, 'box': 641, 'sail': 642, 'crumble': 643, 'uh': 644, 'between': 645, 'genie': 646, 'bottle': 647, 'bells': 648, 'burning': 649, 'moving': 650, 'neck': 651, 'dare': 652, 'wives': 653, 'cold': 654, 'started': 655, 'ball': 656, 'reel': 657, 'yes': 658, 'sound': 659, 'tingling': 660, 'stuffed': 661, 'bow': 662, 'room': 663, 'tumbling': 664, 'stuck': 665, 'dancing': 666, 'space': 667, 'weeds': 668, 'root': 669, 'bird': 670, 'darkness': 671, 'clear': 672, 'fallen': 673, 'cover': 674, 'beyond': 675, 'return': 676, 'totally': 677, 'different': 678, 'types': 679, 'present': 680, 'sun': 681, 'soon': 682, 'aaaaaaaaah': 683, 'drowning': 684, 'angel': 685, 'knows': 686, 'mother': 687, 'thin': 688, 'son': 689, 'sir': 690, 'teeth': 691, 'playing': 692, 'bought': 693, 'honey': 694, 'bleed': 695, 'hold': 696, 'london': 697, 'beach': 698, 'band': 699, 'jim': 700, 'morrison': 701, 'destroyed': 702, 'clever': 703, 'toys': 704, 'boys': 705, 'aeroplane': 706, 'thousand': 707, 'politics': 708, 'anything': 709, 'hate': 710, 'vegetable': 711, 'feeds': 712, 'spray': 713, 'ray': 714, 'work': 715, 'strange': 716, 'creeping': 717, 'cage': 718, 'underground': 719, 'gutted': 720, 'touchall': 721, 'touch': 722, 'form': 723, 'saying': 724, 'bone': 725, 'pain': 726, 'bar': 727, 'drip': 728, 'girlfriend': 729, 'sixties': 730, 'planet': 731, 'brought': 732, 'week': 733, 'mirror': 734, 'drying': 735, \"who'll\": 736, 'screaming': 737, 'looks': 738, 'wrists': 739, 'dust': 740, 'missing': 741, 'garden': 742, 'made': 743, 'teach': 744, 'holy': 745, 'floor': 746, 'three': 747, 'solo': 748, 'driving': 749, 'says': 750, 'teenage': 751, 'dumb': 752, 'waste': 753, 'o': 754, 'k': 755, 'limb': 756, 'tooth': 757, 'shot': 758, 'lead': 759, 'troubled': 760, 'eating': 761, 'slept': 762, 'train': 763, 'melt': 764, 'each': 765, 'eats': 766, 'position': 767, 'thoughts': 768, 'eggs': 769, 'scream': 770, 'fight': 771, 'immerse': 772, 'war': 773, 'noise': 774, 'trying': 775, 'king': 776, 'vomit': 777, 'loves': 778, 'warm': 779, 'making': 780, 'movies': 781, 'themselves': 782, 'ship': 783, 'shut': 784, 'loose': 785, 'chill': 786, 'taking': 787, 'bottles': 788, 'shell': 789, 'twitch': 790, 'ends': 791, 'chemical': 792, 'reaction': 793, 'useless': 794, 'arrest': 795, 'phew': 796, 'fitter': 797, 'productive': 798, 'smiling': 799, 'seat': 800, 'sleeping': 801, 'bad': 802, 'animals': 803, 'contact': 804, 'check': 805, 'credit': 806, 'favours': 807, 'sundays': 808, 'putting': 809, 'water': 810, 'afraid': 811, 'dark': 812, 'concerned': 813, 'wet': 814, 'memory': 815, 'trust': 816, 'rely': 817, 'vote': 818, 'reflection': 819, 'pick': 820, 'either': 821, 'skull': 822, 'cupboard': 823, 'silent': 824, 'final': 825, 'roll': 826, 'luck': 827, 'glorious': 828, 'aircrash': 829, 'superhero': 830, 'outro': 831, 'sparks': 832, 'sent': 833, 'colours': 834, 'lie': 835, 'sticks': 836, 'ventriloquists': 837, 'rats': 838, 'blown': 839, \"one's\": 840, 'nervous': 841, 'lundy': 842, 'fastnet': 843, 'being': 844, 'can’t': 845, 'trapdoors': 846, 'bother': 847, 'women': 848, \"haven't\": 849, 'sides': 850, 'scaremongering': 851, 'mobiles': 852, 'candle': 853, 'bump': 854, 'howling': 855, 'chimney': 856, 'sleepy': 857, 'jack': 858, \"nobody's\": 859, 'everybody': 860, 'letters': 861, 'realize': 862, 'looking': 863, 'jumped': 864, 'angels': 865, 'swam': 866, 'astral': 867, 'cars': 868, 'figures': 869, 'lovers': 870, 'past': 871, 'futures': 872, 'row': 873, 'boat': 874, 'oooooh': 875, 'revolving': 876, 'whose': 877, 'army': 878, 'cronies': 879, 'easy': 880, 'future': 881, \"let's\": 882, 'waterfall': 883, 'catch': 884, 'mouse': 885, 'dog': 886, 'squash': 887, 'point': 888, 'constructive': 889, 'honesty': 890, \"children's\": 891, 'wander': 892, 'promised': 893, 'mark': 894, 'feels': 895, 'spinning': 896, 'plates': 897, 'smile': 898, 'chew': 899, 'fat': 900, \"someone's\": 901, 'listening': 902, 'hungry': 903, 'five': 904, 'lay': 905, 'thief': 906, 'jaws': 907, 'wipe': 908, 'sucked': 909, 'rotten': 910, 'fruit': 911, 'damaged': 912, 'goods': 913, 'probably': 914, 'buried': 915, 'rag': 916, 'someone’s': 917, 'tip': 918, 'may': 919, 'gap': 920, 'clouds': 921, 'x': 922, 'moth': 923, 'eaten': 924, 'witching': 925, 'murderers': 926, 'funny': 927, 'gloaming': 928, \"doin'\": 929, 'singing': 930, 'accidents': 931, 'rise': 932, 'drunken': 933, 'punch': 934, 'wedding': 935, 'cheering': 936, 'waving': 937, 'strangled': 938, 'beaten': 939, 'ass': 940, 'ten': 941, \"yesterday's\": 942, 'wind': 943, 'fucker': 944, 'wolf': 945, 'phone': 946, 'tells': 947, 'ways': 948, 'steal': 949, 'ransom': 950, 'squeal': 951, 'cops': 952, 'investments': 953, 'dealers': 954, 'ooohh': 955, 'alright': 956, 'happened': 957, 'et': 958, 'cetera': 959, 'idea': 960, 'st': 961, 'lines': 962, 'ideas': 963, 'ocean': 964, 'leaves': 965, 'worms': 966, 'middle': 967, 'picture': 968, 'wakey': 969, 'duplicate': 970, 'triplicate': 971, 'exactly': 972, 'reckoner': 973, 'dedicated': 974, 'beings': 975, 'separate': 976, 'ripples': 977, 'shore': 978, 'table': 979, 'swept': 980, 'number': 981, 'shape': 982, 'notes': 983, 'beat': 984, 'jigsaw': 985, 'nightmare': 986, 'somersaults': 987, \"turtle's\": 988, 'jellyfish': 989, 'stole': 990, 'mr': 991, 'magpie': 992, 'stolen': 993, 'magic': 994, 'took': 995, 'tease': 996, 'flirt': 997, 'earnest': 998, 'judged': 999, 'judge': 1000, 'repeated': 1001, 'shrink': 1002, 'unfurl': 1003, 'lotus': 1004, 'kick': 1005, 'habit': 1006, 'ballooning': 1007, 'jump': 1008, \"water's\": 1009, 'gather': 1010, 'weary': 1011, 'trees': 1012, 'vivid': 1013, 'weight': 1014, 'flying': 1015, 'attack': 1016, 'learn': 1017, 'damage': 1018, 'serve': 1019, 'spacecraft': 1020, 'blocking': 1021, 'loudest': 1022, 'heard': 1023, 'darkest': 1024, 'spirit': 1025, 'waking': 1026, 'foul': 1027, 'tasting': 1028, 'medicine': 1029, 'glassy': 1030, 'path': 1031, 'trails': 1032, 'mountain': 1033, 'bush': 1034, 'leads': 1035, 'core': 1036, 'faced': 1037, 'ragdoll': 1038, 'mankind': 1039, 'chimeras': 1040, 'spells': 1041, 'ours': 1042, 'weapon': 1043, 'defence': 1044, 'heavy': 1045, 'vain': 1046, 'prey': 1047, 'fires': 1048, 'belly': 1049, 'i’ll': 1050, 'true': 1051, 'working': 1052, 'chaotic': 1053, 'hooooooo': 1054, \"couldn't\": 1055, 'feather': 1056, 'notice': 1057, 'bitter': 1058, 'twisted': 1059, 'loved': 1060, 'weep': 1061, 'stupid': 1062, 'powerful': 1063, 'freak': 1064, 'respect': 1065, 'dangerous': 1066, 'bigot': 1067, 'daddy': 1068, 'cheats': 1069, 'steals': 1070, 'bullies': 1071, 'wise': 1072, 'cursing': 1073, 'buildings': 1074, 'songs': 1075, 'dear': 1076, 'complaint': 1077, 'records': 1078, 'men': 1079, 'cigarettes': 1080, 'bribed': 1081, 'company': 1082, \"aren't\": 1083, 'paid': 1084, 'bled': 1085, 'miles': 1086, 'answer': 1087, 'prayers': 1088, 'worked': 1089, 'ran': 1090, 'domestic': 1091, 'bliss': 1092, 'fought': 1093, 'died': 1094, 'scarred': 1095, 'surround': 1096, 'asphyxiate': 1097, 'afford': 1098, 'without': 1099, 'gun': 1100, 'hooked': 1101, 'cathode': 1102, 'beg': 1103, 'pray': 1104, 'blurted': 1105, 'rattling': 1106, 'nailed': 1107, 'heels': 1108, 'fused': 1109, 'glued': 1110, 'taste': 1111, 'chasing': 1112, 'stung': 1113, 'straight': 1114, 'school': 1115, 'airplane': 1116, 'pane': 1117, 'thicken': 1118, 'dirt': 1119, 'scared': 1120, 'underneath': 1121, 'sinking': 1122, 'gunboat': 1123, 'c': 1124, 'tanks': 1125, 'marines': 1126, 'jumps': 1127, 'bet': 1128, 'boy': 1129, \"flyin'\": 1130, 'motorcycle': 1131, 'watching': 1132, 'recognition': 1133, 'conversation': 1134, 'cannot': 1135, 'insides': 1136, 'wishing': 1137, 'sussed': 1138, 'watering': 1139, 'chinese': 1140, 'plant': 1141, 'plans': 1142, 'rid': 1143, 'itself': 1144, 'polystyrene': 1145, 'crumbles': 1146, 'surgery': 1147, 'girls': 1148, 's': 1149, 'gravity': 1150, 'wins': 1151, 'tastes': 1152, 'ceiling': 1153, 'crippled': 1154, 'shoulders': 1155, 'ash': 1156, 'fours': 1157, 'climb': 1158, 'stairs': 1159, 'everywhere': 1160, 'prozac': 1161, 'painkillers': 1162, 'fly': 1163, 'peter': 1164, 'pan': 1165, 'flew': 1166, 'touched': 1167, 'brother': 1168, 'dug': 1169, 'very': 1170, 'own': 1171, 'gave': 1172, 'sunshine': 1173, 'ansaphone': 1174, 'electrocute': 1175, 'stink': 1176, 'comet': 1177, 'suckered': 1178, \"he'll\": 1179, 'cow': 1180, 'sympathy': 1181, 'th': 1182, 'changed': 1183, 'locks': 1184, 'reeling': 1185, 'purest': 1186, 'faith': 1187, 'everyday': 1188, 'brain': 1189, 'receiving': 1190, 'lack': 1191, 'oxygen': 1192, 'support': 1193, 'cynical': 1194, 'losing': 1195, 'scratch': 1196, 'eternal': 1197, 'itch': 1198, 'twentieth': 1199, 'bitch': 1200, 'grateful': 1201, 'thumb': 1202, 'toilet': 1203, 'trained': 1204, 'runs': 1205, 'hum': 1206, 'new': 1207, 'total': 1208, 'stirring': 1209, 'wax': 1210, 'mould': 1211, 'heat': 1212, 'pins': 1213, 'stab': 1214, 'million': 1215, 'bubbles': 1216, 'surrogate': 1217, 'dressing': 1218, 'gown': 1219, 'awake': 1220, 'hours': 1221, 'since': 1222, 'passing': 1223, 'bite': 1224, 'bites': 1225, 'bawl': 1226, 'disinfected': 1227, 'eager': 1228, 'behave': 1229, 'declare': 1230, 'holiday': 1231, 'drift': 1232, 'rows': 1233, 'houses': 1234, 'bearing': 1235, 'touching': 1236, 'machine': 1237, 'communicate': 1238, 'strain': 1239, 'child': 1240, 'circle': 1241, 'death': 1242, 'beady': 1243, 'jackknifed': 1244, 'juggernaut': 1245, 'neon': 1246, 'sign': 1247, 'scrolling': 1248, 'german': 1249, 'amazed': 1250, 'survived': 1251, 'airbag': 1252, 'saved': 1253, 'unborn': 1254, 'chicken': 1255, 'voices': 1256, 'opinion': 1257, 'which': 1258, 'consequence': 1259, 'ambition': 1260, 'ugly': 1261, 'kicking': 1262, 'squealing': 1263, 'gucci': 1264, 'piggy': 1265, 'leaving': 1266, 'crackle': 1267, 'pigskin': 1268, 'yuppies': 1269, 'networking': 1270, 'breath': 1271, 'forgetting': 1272, 'summer': 1273, 'air': 1274, 'cracks': 1275, 'pavement': 1276, 'above': 1277, 'aliens': 1278, 'hover': 1279, 'folks': 1280, 'creatures': 1281, 'spirits': 1282, 'secrets': 1283, 'swoop': 1284, 'country': 1285, 'lane': 1286, 'board': 1287, 'completely': 1288, 'meaning': 1289, 'tears': 1290, 'pack': 1291, 'dressed': 1292, 'father': 1293, 'hears': 1294, 'breaks': 1295, 'spineless': 1296, 'wisdom': 1297, 'everlasting': 1298, 'transport': 1299, 'motorways': 1300, 'tramlines': 1301, 'starting': 1302, 'stopping': 1303, 'landing': 1304, 'emptiest': 1305, 'feelings': 1306, 'disappointed': 1307, 'clinging': 1308, 'disappointing': 1309, 'smashed': 1310, 'juices': 1311, 'flowing': 1312, 'legs': 1313, 'sentimental': 1314, 'drivel': 1315, 'collapsing': 1316, 'bouncing': 1317, 'talks': 1318, 'maths': 1319, 'buzzes': 1320, 'fridge': 1321, 'detuned': 1322, 'radio': 1323, 'girl': 1324, 'hitler': 1325, 'hairdo': 1326, 'ill': 1327, 'crashed': 1328, 'party': 1329, 'payroll': 1330, 'happier': 1331, 'comfortable': 1332, 'drinking': 1333, 'regular': 1334, 'exercise': 1335, 'gym': 1336, 'getting': 1337, 'associate': 1338, 'employee': 1339, 'contemporaries': 1340, 'ease': 1341, 'microwave': 1342, 'dinners': 1343, 'saturated': 1344, 'fats': 1345, 'patient': 1346, 'driver': 1347, 'safer': 1348, 'dreams': 1349, 'paranoia': 1350, 'careful': 1351, 'washing': 1352, 'spiders': 1353, 'plughole': 1354, 'old': 1355, 'enjoy': 1356, 'drink': 1357, 'frequently': 1358, 'moral': 1359, 'bank': 1360, 'fond': 1361, 'charity': 1362, 'orders': 1363, 'ring': 1364, 'road': 1365, 'supermarket': 1366, 'moths': 1367, 'boiling': 1368, 'ants': 1369, 'also': 1370, 'midday': 1371, 'ridiculously': 1372, 'desperate': 1373, 'childish': 1374, 'pace': 1375, 'slower': 1376, 'calculated': 1377, 'employed': 1378, 'powerless': 1379, 'empowered': 1380, 'informed': 1381, 'member': 1382, 'society': 1383, 'pragmatism': 1384, 'idealism': 1385, 'public': 1386, 'less': 1387, 'illness': 1388, 'tires': 1389, 'grip': 1390, 'strapped': 1391, 'cries': 1392, 'film': 1393, 'kisses': 1394, 'saliva': 1395, 'frantic': 1396, 'driven': 1397, 'winter': 1398, 'shit': 1399, 'ability': 1400, 'weakness': 1401, 'calm': 1402, 'healthier': 1403, 'pig': 1404, 'antibiotics': 1405, 'electioneering': 1406, 'riot': 1407, 'shields': 1408, 'voodoo': 1409, 'economics': 1410, 'cattle': 1411, 'prods': 1412, 'm': 1413, 'f': 1414, 'key': 1415, 'basement': 1416, 'covers': 1417, 'till': 1418, 'die': 1419, 'outside': 1420, 'safe': 1421, 'local': 1422, 'loneliest': 1423, 'landfill': 1424, 'kills': 1425, 'bruises': 1426, 'heal': 1427, 'tired': 1428, 'unhappy': 1429, 'bring': 1430, 'government': 1431, 'handshake': 1432, 'carbon': 1433, 'monoxide': 1434, 'fit': 1435, 'bellyache': 1436, 'sarah': 1437, 'state': 1438, 'called': 1439, 'barks': 1440, 'flowin': 1441, 'overcharged': 1442, 'ask': 1443, 'per': 1444, 'second': 1445, 'spark': 1446, 'gnihtyreve': 1447, 'slipped': 1448, 'liffey': 1449, \"moment's\": 1450, 'passed': 1451, 'strobe': 1452, 'speakers': 1453, 'fireworks': 1454, 'hurricanes': 1455, 'buzzing': 1456, 'vultures': 1457, 'circling': 1458, 'picking': 1459, 'crumb': 1460, 'problem': 1461, 'optimistic': 1462, 'market': 1463, 'swamp': 1464, 'payload': 1465, 'fodder': 1466, 'farm': 1467, 'marionette': 1468, 'prison': 1469, 'spiral': 1470, 'produced': 1471, 'nigel': 1472, 'godrich': 1473, 'radiohead': 1474, 'skwerking': 1475, 'chirping': 1476, 'nobody': 1477, 'slave': 1478, 'wine': 1479, 'cheap': 1480, 'sex': 1481, 'sad': 1482, 'films': 1483, 'sending': 1484, 'burned': 1485, 'fed': 1486, 'flashed': 1487, 'ooooooh': 1488, 'barn': 1489, 'rudders': 1490, 'ships': 1491, 'sliding': 1492, 'secret': 1493, 'drive': 1494, 'roman': 1495, 'empire': 1496, 'sworn': 1497, 'saw': 1498, 'ourselves': 1499, 'shove': 1500, 'drowned': 1501, 'birth': 1502, 'telling': 1503, 'cook': 1504, 'bloated': 1505, 'letting': 1506, 'lawn': 1507, 'weapons': 1508, 'use': 1509, 'blues': 1510, 'warnings': 1511, 'games': 1512, 'won': 1513, 'goals': 1514, 'liberal': 1515, 'babe': 1516, 'crying': 1517, \"it'll\": 1518, \"planet's\": 1519, 'yen': 1520, 'speeches': 1521, 'shreds': 1522, 'lions': 1523, 'delicate': 1524, 'balance': 1525, 'cloud': 1526, 'cuckoo': 1527, 'muddy': 1528, 'trouble': 1529, 'papering': 1530, 'panes': 1531, 'packed': 1532, 'food': 1533, 'battery': 1534, 'hens': 1535, 'starving': 1536, 'millions': 1537, 'stones': 1538, 'royal': 1539, 'highness': 1540, 'lynching': 1541, 'mistake': 1542, 'cheek': 1543, 'johnny': 1544, 'dreamer': 1545, 'rights': 1546, 'forever': 1547, 'tracks': 1548, 'sandbag': 1549, 'january': 1550, 'april': 1551, 'showers': 1552, \"devil's\": 1553, 'shout': 1554, 'along': 1555, \"music's\": 1556, 'swat': 1557, 'em': 1558, 'buggers': 1559, 'question': 1560, 'authority': 1561, 'interlude': 1562, 'ohhhhhhhhhhh': 1563, 'spoke': 1564, 'cost': 1565, 'dropped': 1566, 'moonbeams': 1567, 'sailed': 1568, 'shooting': 1569, 'president': 1570, 'flood': 1571, 'build': 1572, 'ark': 1573, 'backdrifting': 1574, 'further': 1575, 'branch': 1576, 'teetering': 1577, 'breaker': 1578, 'sweets': 1579, 'backsliding': 1580, 'evidence': 1581, 'tapes': 1582, 'erased': 1583, 'footsteps': 1584, 'backtracking': 1585, 'backdrifters': 1586, 'daughter': 1587, 'monster': 1588, 'tiptoe': 1589, 'tie': 1590, 'loonies': 1591, \"takin'\": 1592, 'toeing': 1593, 'tying': 1594, 'sorry': 1595, 'roam': 1596, 'parting': 1597, 'waves': 1598, 'sick': 1599, 'begging': 1600, 'fresh': 1601, 'strung': 1602, 'fracturing': 1603, 'torn': 1604, 'seams': 1605, 'flea': 1606, 'bitten': 1607, 'ivy': 1608, 'bury': 1609, 'veins': 1610, 'rivers': 1611, 'poisoned': 1612, 'meats': 1613, 'same': 1614, 'pitch': 1615, 'landscape': 1616, 'branches': 1617, 'trip': 1618, 'siren': 1619, 'shipwreck': 1620, 'steer': 1621, 'rocks': 1622, \"we'd\": 1623, 'disaster': 1624, 'elephants': 1625, 'sitting': 1626, 'ducks': 1627, \"nothing's\": 1628, 'piss': 1629, 'parade': 1630, 'shred': 1631, 'ruin': 1632, 'hypocrite': 1633, 'opportunist': 1634, 'infect': 1635, 'poison': 1636, 'bully': 1637, 'china': 1638, 'shop': 1639, 'spot': 1640, 'pointless': 1641, 'snide': 1642, 'remarks': 1643, 'hammerheaded': 1644, 'sharks': 1645, 'kettle': 1646, 'mongrel': 1647, 'proceeded': 1648, 'newfound': 1649, 'liked': 1650, 'ate': 1651, 'breakfast': 1652, 'screwed': 1653, 'vice': 1654, 'sat': 1655, 'wrote': 1656, 'neat': 1657, 'twitching': 1658, 'salivating': 1659, 'edited': 1660, 'fucked': 1661, 'photo': 1662, 'magazine': 1663, 'devon': 1664, 'skinned': 1665, 'misguided': 1666, 'naïve': 1667, 'salivate': 1668, 'likes': 1669, 'smart': 1670, 'wait': 1671, 'intention': 1672, 'must': 1673, 'mixed': 1674, 'gale': 1675, 'thrown': 1676, 'bullets': 1677, 'roof': 1678, 'pulling': 1679, 'fingernails': 1680, 'rapping': 1681, 'windowsill': 1682, 'headlines': 1683, 'fool': 1684, 'target': 1685, 'firing': 1686, 'range': 1687, 'lightning': 1688, 'fuse': 1689, 'powercut': 1690, 'drag': 1691, 'dragging': 1692, 'miss': 1693, 'snakes': 1694, 'ladders': 1695, 'flip': 1696, 'lid': 1697, 'pops': 1698, 'cracker': 1699, 'smacks': 1700, 'knifes': 1701, 'kicks': 1702, 'steel': 1703, 'toe': 1704, 'caps': 1705, 'takes': 1706, 'step': 1707, 'gunge': 1708, 'pinch': 1709, 'salt': 1710, 'taxman': 1711, 'promise': 1712, 'recognize': 1713, 'doctor': 1714, 'cranes': 1715, 'strip': 1716, 'naked': 1717, 'tight': 1718, 'list': 1719, 'stepford': 1720, 'complain': 1721, 'mistresses': 1722, 'sunday': 1723, 'papers': 1724, 'city': 1725, 'class': 1726, 'clean': 1727, 'raised': 1728, 'tape': 1729, 'ooooohh': 1730, 'undone': 1731, 'soft': 1732, 'pillow': 1733, 'facts': 1734, 'steps': 1735, 'sheer': 1736, 'pulse': 1737, 'blink': 1738, 'removed': 1739, 'backbone': 1740, 'pale': 1741, 'imitation': 1742, 'edges': 1743, 'sawn': 1744, 'moves': 1745, \"light's\": 1746, 'paint': 1747, 'found': 1748, 'rails': 1749, 'dirty': 1750, 'deepest': 1751, 'phantoms': 1752, 'picked': 1753, 'act': 1754, 'hot': 1755, 'choose': 1756, 'ignore': 1757, 'share': 1758, 'insect': 1759, 'others': 1760, 'reeds': 1761, 'shine': 1762, 'dominoes': 1763, 'patterns': 1764, 'fingers': 1765, 'blackbird': 1766, 'pie': 1767, 'sensible': 1768, 'squeeze': 1769, 'tubes': 1770, 'elephant': 1771, 'bags': 1772, 'stuff': 1773, 'feathers': 1774, 'butter': 1775, 'pleasure': 1776, 'bittersweet': 1777, 'distractors': 1778, 'blank': 1779, 'rainbows': 1780, 'lover': 1781, 'starts': 1782, 'infrastructure': 1783, 'collapse': 1784, 'voltage': 1785, 'spikes': 1786, 'keys': 1787, 'bowl': 1788, 'husband': 1789, \"'good\": 1790, \"night'\": 1791, 'write': 1792, 'drinks': 1793, 'arrive': 1794, 'favourite': 1795, 'disappears': 1796, 'wound': 1797, 'spring': 1798, 'focus': 1799, 'bending': 1800, 'cheshire': 1801, 'grin': 1802, 'blurring': 1803, 'mission': 1804, 'owl': 1805, 'noises': 1806, 'closed': 1807, 'circuit': 1808, 'cameras': 1809, 'comatose': 1810, 'pretended': 1811, 'blunt': 1812, 'instruments': 1813, 'sawed': 1814, 'shotgun': 1815, 'mic': 1816, 'explain': 1817, 'pass': 1818, 'twice': 1819, 'pearly': 1820, 'gates': 1821, \"this'll\": 1822, 'mephistopheles': 1823, 'reaching': 1824, 'grab': 1825, 'center': 1826, 'spin': 1827, 'goodbye': 1828, 'happens': 1829, \"shouldn't\": 1830, 'most': 1831, 'wide': 1832, 'universal': 1833, 'sigh': 1834, 'blooms': 1835, 'whys': 1836, 'orbit': 1837, 'melody': 1838, 'nasty': 1839, \"dark's\": 1840, 'pillar': 1841, 'spell': 1842, 'clue': 1843, 'flag': 1844, 'pole': 1845, 'curling': 1846, 'seal': 1847, 'obligations': 1848, 'complications': 1849, 'routines': 1850, 'schedules': 1851, 'yours': 1852, 'okay': 1853, 'infinitum': 1854, 'pocket': 1855, 'invisible': 1856, 'disappear': 1857, 'groove': 1858, 'mice': 1859, 'pit': 1860, 'sleight': 1861, 'dragonflies': 1862, 'fantasize': 1863, 'gets': 1864, 'slide': 1865, 'sold': 1866, 'pitiful': 1867, 'seems': 1868, 'impossible': 1869, 'sweetest': 1870, 'fruits': 1871, 'word': 1872, 'gesture': 1873, 'woman': 1874, 'beholder': 1875, 'laid': 1876, 'cheer': 1877, 'gallows': 1878, 'jukebox': 1879, 'crosses': 1880, 'wooden': 1881, 'tables': 1882, 'abandon': 1883, 'avoid': 1884, 'react': 1885, 'shoot': 1886, 'messengers': 1887, 'sixpence': 1888, 'dreamers': 1889, 'doll': 1890, 'cloth': 1891, 'helpless': 1892, 'resist': 1893, 'angle': 1894, 'ton': 1895, 'sand': 1896, 'dread': 1897, 'circumference': 1898, 'gotta': 1899, 'kidding': 1900, 'grass': 1901, 'grows': 1902, 'split': 1903, 'infinities': 1904, 'darling': 1905, 'rushing': 1906, 'ravine': 1907, 'doorway': 1908, 'across': 1909, 'street': 1910, 'catching': 1911, 'switching': 1912, 'didn’t': 1913, 'released': 1914, 'shutdown': 1915, 'strike': 1916, 'tinderbox': 1917, 'frightening': 1918, 'faces': 1919, 'concrete': 1920, 'grey': 1921, 'wondering': 1922, 'buy': 1923, 'ticket': 1924, 'drama': 1925, 'smug': 1926, 'background': 1927, 'shaped': 1928, 'pool': 1929, 'holds': 1930, 'phantom': 1931, 'touches': 1932, 'breeze': 1933, 'shines': 1934, 'understanding': 1935, 'channels': 1936, 'ready': 1937, 'receive': 1938, 'mercy': 1939, 'mmmhm': 1940, 'numbers': 1941, 'decide': 1942, 'system': 1943, 'butterflies': 1944, 'pour': 1945, 'soup': 1946, 'tense': 1947, 'harm': 1948, 'crashing': 1949, 'freaking': 1950, 'deaf': 1951, 'blind': 1952, 'penny': 1953, 'slack': 1954, 'sight': 1955, 'swim': 1956, 'drown': 1957, 'beliefs': 1958, 'babies': 1959, 'dress': 1960, 'niece': 1961, 'swollen': 1962, 'tiny': 1963, 'kitten': 1964, 'waits': 1965, 'haunted': 1966, 'attics': 1967, 'lollipops': 1968, 'crisps': 1969}\n",
            "1970\n"
          ]
        }
      ]
    },
    {
      "cell_type": "code",
      "metadata": {
        "id": "soPGVheskaQP"
      },
      "source": [
        "input_sequences = []\n",
        "for line in corpus:\n",
        "\ttoken_list = tokenizer.texts_to_sequences([line])[0]\n",
        "\tfor i in range(1, len(token_list)):\n",
        "\t\tn_gram_sequence = token_list[:i+1]\n",
        "\t\tinput_sequences.append(n_gram_sequence)\n",
        "\n",
        "# pad sequences \n",
        "max_sequence_len = max([len(x) for x in input_sequences])\n",
        "input_sequences = np.array(pad_sequences(input_sequences, maxlen=max_sequence_len, padding='pre'))\n",
        "\n",
        "# create predictors and label\n",
        "xs, labels = input_sequences[:,:-1],input_sequences[:,-1]\n",
        "\n",
        "ys = tf.keras.utils.to_categorical(labels, num_classes=total_words)"
      ],
      "execution_count": 6,
      "outputs": []
    },
    {
      "cell_type": "code",
      "metadata": {
        "id": "pJtwVB2NbOAP",
        "colab": {
          "base_uri": "https://localhost:8080/"
        },
        "outputId": "2a3ec096-233e-45fe-ff16-fbda0228ff57"
      },
      "source": [
        "print(tokenizer.word_index['in'])\n",
        "print(tokenizer.word_index['the'])\n",
        "print(tokenizer.word_index['town'])\n",
        "print(tokenizer.word_index['of'])\n",
        "print(tokenizer.word_index['one'])"
      ],
      "execution_count": 7,
      "outputs": [
        {
          "output_type": "stream",
          "name": "stdout",
          "text": [
            "9\n",
            "1\n",
            "457\n",
            "16\n",
            "51\n"
          ]
        }
      ]
    },
    {
      "cell_type": "code",
      "metadata": {
        "id": "49Cv68JOakwv",
        "colab": {
          "base_uri": "https://localhost:8080/"
        },
        "outputId": "feea6e80-1f62-4afb-8287-4a16872ae369"
      },
      "source": [
        "print(xs[6])"
      ],
      "execution_count": 8,
      "outputs": [
        {
          "output_type": "stream",
          "name": "stdout",
          "text": [
            "[  0   0   0   0   0   0   0   0   0   0   0   0   0   0   0   0   0   0\n",
            "   0   0   0   0   0   0   0   0   0   0   0   0   0   0   0   0   0   0\n",
            "   0   0   0   0   0   0   0   0   0   0   0   0   0   0   0   0   0   0\n",
            "   0   0   0   0   0   0   0   0   0   0   0   0   0   0   0   0   0   0\n",
            "   0   0   0   0   0   0   0   0   0   0   0   0   0   0   0   0   0   0\n",
            "   0   0   0   0   0   0   0   0   0   0   0   0   0   0   0   0   0   0\n",
            "   0   0   0   0   0   0   0   0   0   0   0   0   0   0   0   0   0   0\n",
            "   0   0   0   0   0   0   0   0   0   0   0   0   0   0   0   0   0   0\n",
            "   0   0   0   0   0   0   0   0   0   0   0   0   0   0   0   0   0   0\n",
            "   0   0   0   0   0   0   0   0   0   0   0   0   0   0   0   0   0   0\n",
            "   0   0   0   0   0   0   0   0   0   0   0   0   0   0   0   0   0   0\n",
            "   0   0   0   0   0   0   0   0   0   0   0   0   0   0   0   0   0   0\n",
            "   0   0   0   0   0   0   0   0   0   0   0   0   0   0   0   0   0   0\n",
            "   0   0   0   0   0   0   0   0   0   0   0   0   0   0   0   0   0   0\n",
            "   0   0   0   0   0   0   0   0   0   0   0   0   0   0   0   0   0   0\n",
            "   0   0   0   0   0   0   0   0   0   0   0   0   0   0   0   0   0   0\n",
            "   0   0   0   0   0   0   0   0   0   0   0   0   0   0   0   0   0   0\n",
            "   0   0   0   0   0   0   0   0   0   0   0   0   0   0   0   0   0   0\n",
            "   0   0   0   0   0   0   0   0   0   0   0   0   0   0   0   0   0   0\n",
            "   0   0   0   0   0   0   0   0   0   0   0   0   0   0   0   0   0   0\n",
            "   0   0   0   0   0   0   0   0   0   0   0   0   0   0   0   0   0   0\n",
            "   0   0   0   0   0   0   0   0   0   0   0   0   0   0   0   0   0   2\n",
            "  22   1 681   4 195   4]\n"
          ]
        }
      ]
    },
    {
      "cell_type": "code",
      "metadata": {
        "id": "iY-jwvfgbEF8",
        "colab": {
          "base_uri": "https://localhost:8080/"
        },
        "outputId": "31481cb5-8344-4c94-a5fb-758c2363662c"
      },
      "source": [
        "print(ys[6])"
      ],
      "execution_count": 9,
      "outputs": [
        {
          "output_type": "stream",
          "name": "stdout",
          "text": [
            "[0. 0. 0. ... 0. 0. 0.]\n"
          ]
        }
      ]
    },
    {
      "cell_type": "code",
      "metadata": {
        "id": "wtzlUMYadhKt",
        "colab": {
          "base_uri": "https://localhost:8080/"
        },
        "outputId": "037fadfb-892d-45b0-ff84-8eb846929a52"
      },
      "source": [
        "print(xs[5])\n",
        "print(ys[5])"
      ],
      "execution_count": 10,
      "outputs": [
        {
          "output_type": "stream",
          "name": "stdout",
          "text": [
            "[  0   0   0   0   0   0   0   0   0   0   0   0   0   0   0   0   0   0\n",
            "   0   0   0   0   0   0   0   0   0   0   0   0   0   0   0   0   0   0\n",
            "   0   0   0   0   0   0   0   0   0   0   0   0   0   0   0   0   0   0\n",
            "   0   0   0   0   0   0   0   0   0   0   0   0   0   0   0   0   0   0\n",
            "   0   0   0   0   0   0   0   0   0   0   0   0   0   0   0   0   0   0\n",
            "   0   0   0   0   0   0   0   0   0   0   0   0   0   0   0   0   0   0\n",
            "   0   0   0   0   0   0   0   0   0   0   0   0   0   0   0   0   0   0\n",
            "   0   0   0   0   0   0   0   0   0   0   0   0   0   0   0   0   0   0\n",
            "   0   0   0   0   0   0   0   0   0   0   0   0   0   0   0   0   0   0\n",
            "   0   0   0   0   0   0   0   0   0   0   0   0   0   0   0   0   0   0\n",
            "   0   0   0   0   0   0   0   0   0   0   0   0   0   0   0   0   0   0\n",
            "   0   0   0   0   0   0   0   0   0   0   0   0   0   0   0   0   0   0\n",
            "   0   0   0   0   0   0   0   0   0   0   0   0   0   0   0   0   0   0\n",
            "   0   0   0   0   0   0   0   0   0   0   0   0   0   0   0   0   0   0\n",
            "   0   0   0   0   0   0   0   0   0   0   0   0   0   0   0   0   0   0\n",
            "   0   0   0   0   0   0   0   0   0   0   0   0   0   0   0   0   0   0\n",
            "   0   0   0   0   0   0   0   0   0   0   0   0   0   0   0   0   0   0\n",
            "   0   0   0   0   0   0   0   0   0   0   0   0   0   0   0   0   0   0\n",
            "   0   0   0   0   0   0   0   0   0   0   0   0   0   0   0   0   0   0\n",
            "   0   0   0   0   0   0   0   0   0   0   0   0   0   0   0   0   0   0\n",
            "   0   0   0   0   0   0   0   0   0   0   0   0   0   0   0   0   0   0\n",
            "   0   0   0   0   0   0   0   0   0   0   0   0   0   0   0   0   0   0\n",
            "   2  22   1 681   4 195]\n",
            "[0. 0. 0. ... 0. 0. 0.]\n"
          ]
        }
      ]
    },
    {
      "cell_type": "code",
      "metadata": {
        "id": "w9vH8Y59ajYL",
        "colab": {
          "base_uri": "https://localhost:8080/"
        },
        "outputId": "8e9f42af-7a17-4d02-867a-f8fc491fe73a"
      },
      "source": [
        "model = Sequential()\n",
        "model.add(Embedding(total_words, 100, input_length=max_sequence_len-1))\n",
        "model.add(Bidirectional(LSTM(150)))\n",
        "model.add(Dense(total_words, activation='softmax'))\n",
        "adam = Adam(learning_rate=0.01)\n",
        "model.compile(loss='categorical_crossentropy', optimizer=adam, metrics=['accuracy'])\n",
        "#earlystop = EarlyStopping(monitor='val_loss', min_delta=0, patience=5, verbose=0, mode='auto')\n",
        "history = model.fit(xs, ys, epochs=100, verbose=1)\n",
        "#print model.summary()\n",
        "print(model)\n"
      ],
      "execution_count": 11,
      "outputs": [
        {
          "output_type": "stream",
          "name": "stdout",
          "text": [
            "Epoch 1/100\n",
            "432/432 [==============================] - 69s 131ms/step - loss: 5.5838 - accuracy: 0.1356\n",
            "Epoch 2/100\n",
            "432/432 [==============================] - 24s 55ms/step - loss: 4.0476 - accuracy: 0.2956\n",
            "Epoch 3/100\n",
            "432/432 [==============================] - 18s 41ms/step - loss: 3.0261 - accuracy: 0.4098\n",
            "Epoch 4/100\n",
            "432/432 [==============================] - 17s 40ms/step - loss: 2.4225 - accuracy: 0.4787\n",
            "Epoch 5/100\n",
            "432/432 [==============================] - 16s 37ms/step - loss: 1.9708 - accuracy: 0.5451\n",
            "Epoch 6/100\n",
            "432/432 [==============================] - 14s 33ms/step - loss: 1.7068 - accuracy: 0.5910\n",
            "Epoch 7/100\n",
            "432/432 [==============================] - 14s 32ms/step - loss: 1.5802 - accuracy: 0.6186\n",
            "Epoch 8/100\n",
            "432/432 [==============================] - 14s 33ms/step - loss: 1.4117 - accuracy: 0.6492\n",
            "Epoch 9/100\n",
            "432/432 [==============================] - 15s 34ms/step - loss: 1.3459 - accuracy: 0.6655\n",
            "Epoch 10/100\n",
            "432/432 [==============================] - 14s 32ms/step - loss: 1.2516 - accuracy: 0.6830\n",
            "Epoch 11/100\n",
            "432/432 [==============================] - 14s 32ms/step - loss: 1.1899 - accuracy: 0.6967\n",
            "Epoch 12/100\n",
            "432/432 [==============================] - 14s 32ms/step - loss: 1.2012 - accuracy: 0.6898\n",
            "Epoch 13/100\n",
            "432/432 [==============================] - 14s 32ms/step - loss: 1.2856 - accuracy: 0.6722\n",
            "Epoch 14/100\n",
            "432/432 [==============================] - 14s 32ms/step - loss: 1.2625 - accuracy: 0.6786\n",
            "Epoch 15/100\n",
            "432/432 [==============================] - 14s 32ms/step - loss: 1.0886 - accuracy: 0.7170\n",
            "Epoch 16/100\n",
            "432/432 [==============================] - 14s 33ms/step - loss: 1.1291 - accuracy: 0.7040\n",
            "Epoch 17/100\n",
            "432/432 [==============================] - 14s 32ms/step - loss: 0.9984 - accuracy: 0.7396\n",
            "Epoch 18/100\n",
            "432/432 [==============================] - 14s 32ms/step - loss: 0.9845 - accuracy: 0.7441\n",
            "Epoch 19/100\n",
            "432/432 [==============================] - 14s 32ms/step - loss: 0.9727 - accuracy: 0.7430\n",
            "Epoch 20/100\n",
            "432/432 [==============================] - 13s 31ms/step - loss: 1.0370 - accuracy: 0.7292\n",
            "Epoch 21/100\n",
            "432/432 [==============================] - 14s 31ms/step - loss: 1.0327 - accuracy: 0.7252\n",
            "Epoch 22/100\n",
            "432/432 [==============================] - 14s 33ms/step - loss: 0.9790 - accuracy: 0.7443\n",
            "Epoch 23/100\n",
            "432/432 [==============================] - 14s 32ms/step - loss: 1.0009 - accuracy: 0.7357\n",
            "Epoch 24/100\n",
            "432/432 [==============================] - 14s 32ms/step - loss: 0.9908 - accuracy: 0.7352\n",
            "Epoch 25/100\n",
            "432/432 [==============================] - 13s 31ms/step - loss: 0.9784 - accuracy: 0.7399\n",
            "Epoch 26/100\n",
            "432/432 [==============================] - 14s 32ms/step - loss: 0.9927 - accuracy: 0.7366\n",
            "Epoch 27/100\n",
            "432/432 [==============================] - 13s 31ms/step - loss: 0.9755 - accuracy: 0.7401\n",
            "Epoch 28/100\n",
            "432/432 [==============================] - 13s 30ms/step - loss: 0.9407 - accuracy: 0.7519\n",
            "Epoch 29/100\n",
            "432/432 [==============================] - 14s 32ms/step - loss: 0.8481 - accuracy: 0.7718\n",
            "Epoch 30/100\n",
            "432/432 [==============================] - 14s 32ms/step - loss: 0.8284 - accuracy: 0.7733\n",
            "Epoch 31/100\n",
            "432/432 [==============================] - 14s 33ms/step - loss: 0.8969 - accuracy: 0.7623\n",
            "Epoch 32/100\n",
            "432/432 [==============================] - 14s 31ms/step - loss: 0.9605 - accuracy: 0.7438\n",
            "Epoch 33/100\n",
            "432/432 [==============================] - 14s 32ms/step - loss: 0.9337 - accuracy: 0.7534\n",
            "Epoch 34/100\n",
            "432/432 [==============================] - 13s 31ms/step - loss: 0.8813 - accuracy: 0.7644\n",
            "Epoch 35/100\n",
            "432/432 [==============================] - 13s 31ms/step - loss: 0.8505 - accuracy: 0.7665\n",
            "Epoch 36/100\n",
            "432/432 [==============================] - 13s 30ms/step - loss: 0.8694 - accuracy: 0.7623\n",
            "Epoch 37/100\n",
            "432/432 [==============================] - 13s 31ms/step - loss: 0.9331 - accuracy: 0.7517\n",
            "Epoch 38/100\n",
            "432/432 [==============================] - 13s 31ms/step - loss: 0.8913 - accuracy: 0.7624\n",
            "Epoch 39/100\n",
            "432/432 [==============================] - 14s 32ms/step - loss: 0.9436 - accuracy: 0.7457\n",
            "Epoch 40/100\n",
            "432/432 [==============================] - 13s 31ms/step - loss: 0.9854 - accuracy: 0.7394\n",
            "Epoch 41/100\n",
            "432/432 [==============================] - 14s 32ms/step - loss: 0.9240 - accuracy: 0.7495\n",
            "Epoch 42/100\n",
            "432/432 [==============================] - 13s 31ms/step - loss: 0.8900 - accuracy: 0.7609\n",
            "Epoch 43/100\n",
            "432/432 [==============================] - 14s 31ms/step - loss: 0.8055 - accuracy: 0.7789\n",
            "Epoch 44/100\n",
            "432/432 [==============================] - 13s 31ms/step - loss: 0.7704 - accuracy: 0.7884\n",
            "Epoch 45/100\n",
            "432/432 [==============================] - 14s 32ms/step - loss: 0.8340 - accuracy: 0.7729\n",
            "Epoch 46/100\n",
            "432/432 [==============================] - 13s 31ms/step - loss: 0.8191 - accuracy: 0.7789\n",
            "Epoch 47/100\n",
            "432/432 [==============================] - 13s 31ms/step - loss: 0.7491 - accuracy: 0.7932\n",
            "Epoch 48/100\n",
            "432/432 [==============================] - 14s 32ms/step - loss: 0.7867 - accuracy: 0.7829\n",
            "Epoch 49/100\n",
            "432/432 [==============================] - 14s 31ms/step - loss: 0.7633 - accuracy: 0.7851\n",
            "Epoch 50/100\n",
            "432/432 [==============================] - 14s 32ms/step - loss: 0.7748 - accuracy: 0.7889\n",
            "Epoch 51/100\n",
            "432/432 [==============================] - 13s 31ms/step - loss: 0.7884 - accuracy: 0.7847\n",
            "Epoch 52/100\n",
            "432/432 [==============================] - 14s 32ms/step - loss: 0.8015 - accuracy: 0.7825\n",
            "Epoch 53/100\n",
            "432/432 [==============================] - 14s 32ms/step - loss: 0.7536 - accuracy: 0.7935\n",
            "Epoch 54/100\n",
            "432/432 [==============================] - 14s 31ms/step - loss: 0.7331 - accuracy: 0.7968\n",
            "Epoch 55/100\n",
            "432/432 [==============================] - 14s 32ms/step - loss: 0.7388 - accuracy: 0.7973\n",
            "Epoch 56/100\n",
            "432/432 [==============================] - 14s 31ms/step - loss: 0.7771 - accuracy: 0.7856\n",
            "Epoch 57/100\n",
            "432/432 [==============================] - 13s 30ms/step - loss: 0.7746 - accuracy: 0.7850\n",
            "Epoch 58/100\n",
            "432/432 [==============================] - 14s 32ms/step - loss: 0.7844 - accuracy: 0.7854\n",
            "Epoch 59/100\n",
            "432/432 [==============================] - 13s 31ms/step - loss: 0.7622 - accuracy: 0.7909\n",
            "Epoch 60/100\n",
            "432/432 [==============================] - 13s 31ms/step - loss: 0.8132 - accuracy: 0.7779\n",
            "Epoch 61/100\n",
            "432/432 [==============================] - 14s 31ms/step - loss: 0.7749 - accuracy: 0.7850\n",
            "Epoch 62/100\n",
            "432/432 [==============================] - 13s 31ms/step - loss: 0.7976 - accuracy: 0.7816\n",
            "Epoch 63/100\n",
            "432/432 [==============================] - 13s 31ms/step - loss: 0.6965 - accuracy: 0.8076\n",
            "Epoch 64/100\n",
            "432/432 [==============================] - 14s 32ms/step - loss: 0.6786 - accuracy: 0.8106\n",
            "Epoch 65/100\n",
            "432/432 [==============================] - 14s 31ms/step - loss: 0.6601 - accuracy: 0.8159\n",
            "Epoch 66/100\n",
            "432/432 [==============================] - 13s 31ms/step - loss: 0.6290 - accuracy: 0.8236\n",
            "Epoch 67/100\n",
            "432/432 [==============================] - 13s 31ms/step - loss: 0.6554 - accuracy: 0.8159\n",
            "Epoch 68/100\n",
            "432/432 [==============================] - 13s 31ms/step - loss: 0.6370 - accuracy: 0.8168\n",
            "Epoch 69/100\n",
            "432/432 [==============================] - 13s 31ms/step - loss: 0.6404 - accuracy: 0.8193\n",
            "Epoch 70/100\n",
            "432/432 [==============================] - 13s 31ms/step - loss: 0.6590 - accuracy: 0.8167\n",
            "Epoch 71/100\n",
            "432/432 [==============================] - 13s 31ms/step - loss: 0.6965 - accuracy: 0.8067\n",
            "Epoch 72/100\n",
            "432/432 [==============================] - 13s 31ms/step - loss: 0.7235 - accuracy: 0.8020\n",
            "Epoch 73/100\n",
            "432/432 [==============================] - 14s 31ms/step - loss: 0.7836 - accuracy: 0.7906\n",
            "Epoch 74/100\n",
            "432/432 [==============================] - 13s 31ms/step - loss: 0.7245 - accuracy: 0.8008\n",
            "Epoch 75/100\n",
            "432/432 [==============================] - 13s 31ms/step - loss: 0.7144 - accuracy: 0.8035\n",
            "Epoch 76/100\n",
            "432/432 [==============================] - 13s 30ms/step - loss: 0.8148 - accuracy: 0.7801\n",
            "Epoch 77/100\n",
            "432/432 [==============================] - 13s 30ms/step - loss: 0.6742 - accuracy: 0.8128\n",
            "Epoch 78/100\n",
            "432/432 [==============================] - 13s 30ms/step - loss: 0.5981 - accuracy: 0.8291\n",
            "Epoch 79/100\n",
            "432/432 [==============================] - 13s 30ms/step - loss: 0.5294 - accuracy: 0.8475\n",
            "Epoch 80/100\n",
            "432/432 [==============================] - 13s 30ms/step - loss: 0.5030 - accuracy: 0.8550\n",
            "Epoch 81/100\n",
            "432/432 [==============================] - 13s 31ms/step - loss: 0.5357 - accuracy: 0.8484\n",
            "Epoch 82/100\n",
            "432/432 [==============================] - 13s 30ms/step - loss: 0.5858 - accuracy: 0.8371\n",
            "Epoch 83/100\n",
            "432/432 [==============================] - 13s 31ms/step - loss: 0.6054 - accuracy: 0.8276\n",
            "Epoch 84/100\n",
            "432/432 [==============================] - 13s 31ms/step - loss: 0.6528 - accuracy: 0.8169\n",
            "Epoch 85/100\n",
            "432/432 [==============================] - 13s 30ms/step - loss: 0.6348 - accuracy: 0.8232\n",
            "Epoch 86/100\n",
            "432/432 [==============================] - 13s 31ms/step - loss: 0.6355 - accuracy: 0.8203\n",
            "Epoch 87/100\n",
            "432/432 [==============================] - 13s 30ms/step - loss: 0.5842 - accuracy: 0.8362\n",
            "Epoch 88/100\n",
            "432/432 [==============================] - 13s 31ms/step - loss: 0.5978 - accuracy: 0.8354\n",
            "Epoch 89/100\n",
            "432/432 [==============================] - 13s 30ms/step - loss: 0.5555 - accuracy: 0.8402\n",
            "Epoch 90/100\n",
            "432/432 [==============================] - 13s 30ms/step - loss: 0.5203 - accuracy: 0.8524\n",
            "Epoch 91/100\n",
            "432/432 [==============================] - 13s 30ms/step - loss: 0.5513 - accuracy: 0.8472\n",
            "Epoch 92/100\n",
            "432/432 [==============================] - 13s 31ms/step - loss: 0.5994 - accuracy: 0.8336\n",
            "Epoch 93/100\n",
            "432/432 [==============================] - 13s 30ms/step - loss: 0.6047 - accuracy: 0.8307\n",
            "Epoch 94/100\n",
            "432/432 [==============================] - 14s 32ms/step - loss: 0.5894 - accuracy: 0.8335\n",
            "Epoch 95/100\n",
            "432/432 [==============================] - 14s 31ms/step - loss: 0.6057 - accuracy: 0.8274\n",
            "Epoch 96/100\n",
            "432/432 [==============================] - 13s 31ms/step - loss: 0.6054 - accuracy: 0.8303\n",
            "Epoch 97/100\n",
            "432/432 [==============================] - 13s 31ms/step - loss: 0.6159 - accuracy: 0.8279\n",
            "Epoch 98/100\n",
            "432/432 [==============================] - 13s 30ms/step - loss: 0.5681 - accuracy: 0.8393\n",
            "Epoch 99/100\n",
            "432/432 [==============================] - 13s 30ms/step - loss: 0.5758 - accuracy: 0.8376\n",
            "Epoch 100/100\n",
            "432/432 [==============================] - 13s 30ms/step - loss: 0.5865 - accuracy: 0.8339\n",
            "<keras.engine.sequential.Sequential object at 0x7f0eaa7f3eb0>\n"
          ]
        }
      ]
    },
    {
      "cell_type": "code",
      "metadata": {
        "id": "3YXGelKThoTT"
      },
      "source": [
        "import matplotlib.pyplot as plt\n",
        "\n",
        "\n",
        "def plot_graphs(history, string):\n",
        "  plt.plot(history.history[string])\n",
        "  plt.xlabel(\"Epochs\")\n",
        "  plt.ylabel(string)\n",
        "  plt.show()"
      ],
      "execution_count": 12,
      "outputs": []
    },
    {
      "cell_type": "code",
      "metadata": {
        "id": "poeprYK8h-c7",
        "colab": {
          "base_uri": "https://localhost:8080/",
          "height": 449
        },
        "outputId": "51eff567-0985-47dc-db22-e57bdc480cd9"
      },
      "source": [
        "plot_graphs(history, 'accuracy')\n"
      ],
      "execution_count": 13,
      "outputs": [
        {
          "output_type": "display_data",
          "data": {
            "text/plain": [
              "<Figure size 640x480 with 1 Axes>"
            ],
            "image/png": "[encoded data removed]"
          },
          "metadata": {}
        }
      ]
    },
    {
      "cell_type": "code",
      "metadata": {
        "id": "6Vc6PHgxa6Hm",
        "colab": {
          "base_uri": "https://localhost:8080/"
        },
        "outputId": "05b6d888-2faa-49a2-80f9-3e5c473a296a"
      },
      "source": [
        "seed_text = \"Can't stop thinking about if and when I'd die\"\n",
        "next_words = 100\n",
        "  \n",
        "for _ in range(next_words):\n",
        "\ttoken_list = tokenizer.texts_to_sequences([seed_text])[0]\n",
        "\ttoken_list = pad_sequences([token_list], maxlen=max_sequence_len-1, padding='pre')\n",
        "\tpredicted = np.argmax(model.predict(token_list), axis=-1)\n",
        "\toutput_word = \"\"\n",
        "\tfor word, index in tokenizer.word_index.items():\n",
        "\t\tif index == predicted:\n",
        "\t\t\toutput_word = word\n",
        "\t\t\tbreak\n",
        "\tseed_text += \" \" + output_word\n",
        "print(seed_text)"
      ],
      "execution_count": 15,
      "outputs": [
        {
          "output_type": "stream",
          "name": "stdout",
          "text": [
            "1/1 [==============================] - 0s 27ms/step\n",
            "1/1 [==============================] - 0s 25ms/step\n",
            "1/1 [==============================] - 0s 24ms/step\n",
            "1/1 [==============================] - 0s 24ms/step\n",
            "1/1 [==============================] - 0s 26ms/step\n",
            "1/1 [==============================] - 0s 29ms/step\n",
            "1/1 [==============================] - 0s 30ms/step\n",
            "1/1 [==============================] - 0s 24ms/step\n",
            "1/1 [==============================] - 0s 24ms/step\n",
            "1/1 [==============================] - 0s 25ms/step\n",
            "1/1 [==============================] - 0s 28ms/step\n",
            "1/1 [==============================] - 0s 24ms/step\n",
            "1/1 [==============================] - 0s 26ms/step\n",
            "1/1 [==============================] - 0s 25ms/step\n",
            "1/1 [==============================] - 0s 27ms/step\n",
            "1/1 [==============================] - 0s 25ms/step\n",
            "1/1 [==============================] - 0s 24ms/step\n",
            "1/1 [==============================] - 0s 28ms/step\n",
            "1/1 [==============================] - 0s 24ms/step\n",
            "1/1 [==============================] - 0s 26ms/step\n",
            "1/1 [==============================] - 0s 26ms/step\n",
            "1/1 [==============================] - 0s 24ms/step\n",
            "1/1 [==============================] - 0s 29ms/step\n",
            "1/1 [==============================] - 0s 25ms/step\n",
            "1/1 [==============================] - 0s 27ms/step\n",
            "1/1 [==============================] - 0s 26ms/step\n",
            "1/1 [==============================] - 0s 26ms/step\n",
            "1/1 [==============================] - 0s 25ms/step\n",
            "1/1 [==============================] - 0s 24ms/step\n",
            "1/1 [==============================] - 0s 26ms/step\n",
            "1/1 [==============================] - 0s 24ms/step\n",
            "1/1 [==============================] - 0s 28ms/step\n",
            "1/1 [==============================] - 0s 24ms/step\n",
            "1/1 [==============================] - 0s 24ms/step\n",
            "1/1 [==============================] - 0s 26ms/step\n",
            "1/1 [==============================] - 0s 24ms/step\n",
            "1/1 [==============================] - 0s 24ms/step\n",
            "1/1 [==============================] - 0s 26ms/step\n",
            "1/1 [==============================] - 0s 25ms/step\n",
            "1/1 [==============================] - 0s 30ms/step\n",
            "1/1 [==============================] - 0s 31ms/step\n",
            "1/1 [==============================] - 0s 27ms/step\n",
            "1/1 [==============================] - 0s 25ms/step\n",
            "1/1 [==============================] - 0s 26ms/step\n",
            "1/1 [==============================] - 0s 24ms/step\n",
            "1/1 [==============================] - 0s 26ms/step\n",
            "1/1 [==============================] - 0s 25ms/step\n",
            "1/1 [==============================] - 0s 24ms/step\n",
            "1/1 [==============================] - 0s 24ms/step\n",
            "1/1 [==============================] - 0s 31ms/step\n",
            "1/1 [==============================] - 0s 37ms/step\n",
            "1/1 [==============================] - 0s 38ms/step\n",
            "1/1 [==============================] - 0s 36ms/step\n",
            "1/1 [==============================] - 0s 36ms/step\n",
            "1/1 [==============================] - 0s 37ms/step\n",
            "1/1 [==============================] - 0s 37ms/step\n",
            "1/1 [==============================] - 0s 49ms/step\n",
            "1/1 [==============================] - 0s 39ms/step\n",
            "1/1 [==============================] - 0s 41ms/step\n",
            "1/1 [==============================] - 0s 40ms/step\n",
            "1/1 [==============================] - 0s 38ms/step\n",
            "1/1 [==============================] - 0s 35ms/step\n",
            "1/1 [==============================] - 0s 35ms/step\n",
            "1/1 [==============================] - 0s 34ms/step\n",
            "1/1 [==============================] - 0s 41ms/step\n",
            "1/1 [==============================] - 0s 39ms/step\n",
            "1/1 [==============================] - 0s 37ms/step\n",
            "1/1 [==============================] - 0s 38ms/step\n",
            "1/1 [==============================] - 0s 39ms/step\n",
            "1/1 [==============================] - 0s 37ms/step\n",
            "1/1 [==============================] - 0s 36ms/step\n",
            "1/1 [==============================] - 0s 37ms/step\n",
            "1/1 [==============================] - 0s 35ms/step\n",
            "1/1 [==============================] - 0s 25ms/step\n",
            "1/1 [==============================] - 0s 24ms/step\n",
            "1/1 [==============================] - 0s 28ms/step\n",
            "1/1 [==============================] - 0s 27ms/step\n",
            "1/1 [==============================] - 0s 24ms/step\n",
            "1/1 [==============================] - 0s 24ms/step\n",
            "1/1 [==============================] - 0s 26ms/step\n",
            "1/1 [==============================] - 0s 28ms/step\n",
            "1/1 [==============================] - 0s 26ms/step\n",
            "1/1 [==============================] - 0s 25ms/step\n",
            "1/1 [==============================] - 0s 24ms/step\n",
            "1/1 [==============================] - 0s 26ms/step\n",
            "1/1 [==============================] - 0s 28ms/step\n",
            "1/1 [==============================] - 0s 25ms/step\n",
            "1/1 [==============================] - 0s 25ms/step\n",
            "1/1 [==============================] - 0s 25ms/step\n",
            "1/1 [==============================] - 0s 24ms/step\n",
            "1/1 [==============================] - 0s 25ms/step\n",
            "1/1 [==============================] - 0s 24ms/step\n",
            "1/1 [==============================] - 0s 24ms/step\n",
            "1/1 [==============================] - 0s 30ms/step\n",
            "1/1 [==============================] - 0s 26ms/step\n",
            "1/1 [==============================] - 0s 26ms/step\n",
            "1/1 [==============================] - 0s 25ms/step\n",
            "1/1 [==============================] - 0s 27ms/step\n",
            "1/1 [==============================] - 0s 25ms/step\n",
            "1/1 [==============================] - 0s 24ms/step\n",
            "Can't stop thinking about if and when I'd die is duplicate off the rails so don't get any big ideas they're not gonna happen you'll go to hell for what i am glued just happy to see you honey the smell have ourselves nothing we could this is over at a low flying panic attack sing the song on the jukebox that goes burn the witch want a perfect laugh and this just feels like spinning plates i'm living in cloud cuckoo land and this just feels like spinning plates i'm living in cloud cuckoo land and this just feels like spinning plates i'm living in cloud cuckoo land\n"
          ]
        }
      ]
    }
  ]
}