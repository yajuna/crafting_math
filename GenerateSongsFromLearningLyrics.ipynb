{
  "nbformat": 4,
  "nbformat_minor": 0,
  "metadata": {
    "accelerator": "GPU",
    "colab": {
      "provenance": []
    },
    "kernelspec": {
      "display_name": "Python 3",
      "name": "python3"
    }
  },
  "cells": [
    {
      "cell_type": "markdown",
      "metadata": {
        "id": "view-in-github"
      },
      "source": [
        "<a target=\"_blank\" href=\"https://colab.research.google.com/github/yajuna/crafting_math/blob/master/PredictIrishSongs.ipynb\">\n",
        "  <img src=\"https://colab.research.google.com/assets/colab-badge.svg\" alt=\"Open In Colab\"/>\n",
        "</a>"
      ]
    },
    {
      "cell_type": "markdown",
      "source": [
        "This notebook is modified from the Google colab notebook for NLP. You can find a playlist of videos on NLP here: \n",
        "https://www.youtube.com/playlist?list=PLQY2H8rRoyvzDbLUZkbudP-MFQZwNmU4S\n",
        "\n",
        "The original notebook is linked under the Part 6 video (Training an AI to create poetry).\n"
      ],
      "metadata": {
        "id": "-CyhnfOqJVTo"
      }
    },
    {
      "cell_type": "code",
      "metadata": {
        "id": "BOwsuGQQY9OL"
      },
      "source": [
        "import tensorflow as tf\n",
        "\n",
        "from tensorflow.keras.preprocessing.sequence import pad_sequences\n",
        "from tensorflow.keras.layers import Embedding, LSTM, Dense, Bidirectional\n",
        "from tensorflow.keras.preprocessing.text import Tokenizer\n",
        "from tensorflow.keras.models import Sequential\n",
        "from tensorflow.keras.optimizers import Adam\n",
        "import numpy as np "
      ],
      "execution_count": 24,
      "outputs": []
    },
    {
      "cell_type": "markdown",
      "source": [
        "Download and install required packages for data"
      ],
      "metadata": {
        "id": "hEYjBYnGECGv"
      }
    },
    {
      "cell_type": "code",
      "source": [
        "!pip install opendatasets\n",
        "!pip install pandas"
      ],
      "metadata": {
        "colab": {
          "base_uri": "https://localhost:8080/"
        },
        "id": "qtdkxJ6OEJOI",
        "outputId": "aeffcdc1-bf92-4dcb-c759-7264b9736de5"
      },
      "execution_count": 25,
      "outputs": [
        {
          "output_type": "stream",
          "name": "stdout",
          "text": [
            "Looking in indexes: https://pypi.org/simple, https://us-python.pkg.dev/colab-wheels/public/simple/\n",
            "Requirement already satisfied: opendatasets in /usr/local/lib/python3.10/dist-packages (0.1.22)\n",
            "Requirement already satisfied: tqdm in /usr/local/lib/python3.10/dist-packages (from opendatasets) (4.65.0)\n",
            "Requirement already satisfied: kaggle in /usr/local/lib/python3.10/dist-packages (from opendatasets) (1.5.13)\n",
            "Requirement already satisfied: click in /usr/local/lib/python3.10/dist-packages (from opendatasets) (8.1.3)\n",
            "Requirement already satisfied: six>=1.10 in /usr/local/lib/python3.10/dist-packages (from kaggle->opendatasets) (1.16.0)\n",
            "Requirement already satisfied: certifi in /usr/local/lib/python3.10/dist-packages (from kaggle->opendatasets) (2022.12.7)\n",
            "Requirement already satisfied: python-dateutil in /usr/local/lib/python3.10/dist-packages (from kaggle->opendatasets) (2.8.2)\n",
            "Requirement already satisfied: requests in /usr/local/lib/python3.10/dist-packages (from kaggle->opendatasets) (2.27.1)\n",
            "Requirement already satisfied: python-slugify in /usr/local/lib/python3.10/dist-packages (from kaggle->opendatasets) (8.0.1)\n",
            "Requirement already satisfied: urllib3 in /usr/local/lib/python3.10/dist-packages (from kaggle->opendatasets) (1.26.15)\n",
            "Requirement already satisfied: text-unidecode>=1.3 in /usr/local/lib/python3.10/dist-packages (from python-slugify->kaggle->opendatasets) (1.3)\n",
            "Requirement already satisfied: charset-normalizer~=2.0.0 in /usr/local/lib/python3.10/dist-packages (from requests->kaggle->opendatasets) (2.0.12)\n",
            "Requirement already satisfied: idna<4,>=2.5 in /usr/local/lib/python3.10/dist-packages (from requests->kaggle->opendatasets) (3.4)\n",
            "Looking in indexes: https://pypi.org/simple, https://us-python.pkg.dev/colab-wheels/public/simple/\n",
            "Requirement already satisfied: pandas in /usr/local/lib/python3.10/dist-packages (1.5.3)\n",
            "Requirement already satisfied: python-dateutil>=2.8.1 in /usr/local/lib/python3.10/dist-packages (from pandas) (2.8.2)\n",
            "Requirement already satisfied: pytz>=2020.1 in /usr/local/lib/python3.10/dist-packages (from pandas) (2022.7.1)\n",
            "Requirement already satisfied: numpy>=1.21.0 in /usr/local/lib/python3.10/dist-packages (from pandas) (1.22.4)\n",
            "Requirement already satisfied: six>=1.5 in /usr/local/lib/python3.10/dist-packages (from python-dateutil>=2.8.1->pandas) (1.16.0)\n"
          ]
        }
      ]
    },
    {
      "cell_type": "markdown",
      "source": [
        "Import library and download data from Kaggle. Here we use the 21 pilots songs for lyrics prediction NLP at \n",
        "\n",
        "https://www.kaggle.com/datasets/cosmosankur/21-pilots-songs-for-lyrics-prediction-nlp\n",
        "\n",
        "For datasets on Kaggle, you will need a token from Kaggle, via My Profile--> Account--> API-->Create New Token"
      ],
      "metadata": {
        "id": "vQKxF9TyE3vt"
      }
    },
    {
      "cell_type": "code",
      "source": [
        "import opendatasets as od\n",
        "import pandas\n",
        "\n",
        "od.download(\"https://www.kaggle.com/datasets/cosmosankur/21-pilots-songs-for-lyrics-prediction-nlp\")"
      ],
      "metadata": {
        "colab": {
          "base_uri": "https://localhost:8080/"
        },
        "id": "MTIcqMC9E8uk",
        "outputId": "407ef3e3-a527-4e0d-c6b0-355a14523586"
      },
      "execution_count": 26,
      "outputs": [
        {
          "output_type": "stream",
          "name": "stdout",
          "text": [
            "Skipping, found downloaded files in \"./21-pilots-songs-for-lyrics-prediction-nlp\" (use force=True to force download)\n"
          ]
        }
      ]
    },
    {
      "cell_type": "markdown",
      "source": [
        "Obtain data for predictions"
      ],
      "metadata": {
        "id": "eGyuso_-Q-uG"
      }
    },
    {
      "cell_type": "code",
      "metadata": {
        "id": "pylt5qZYsWPh"
      },
      "source": [
        "# !wget --no-check-certificate \\\n",
        "#     https://storage.googleapis.com/learning-datasets/irish-lyrics-eof.txt \\\n",
        "#     -O /tmp/irish-lyrics-eof.txt"
      ],
      "execution_count": 27,
      "outputs": []
    },
    {
      "cell_type": "code",
      "metadata": {
        "id": "PRnDnCW-Z7qv",
        "colab": {
          "base_uri": "https://localhost:8080/"
        },
        "outputId": "305a58a1-e33a-4ef2-dd81-e925fec4f6eb"
      },
      "source": [
        "tokenizer = Tokenizer()\n",
        "\n",
        "# read irish lyrics for song prediction\n",
        "# data = open('/tmp/irish-lyrics-eof.txt').read()\n",
        "\n",
        "data = open('/content/21-pilots-songs-for-lyrics-prediction-nlp/21pilots.txt').read()\n",
        "\n",
        "corpus = data.lower().split(\"\\n\")\n",
        "\n",
        "tokenizer.fit_on_texts(corpus)\n",
        "total_words = len(tokenizer.word_index) + 1\n",
        "\n",
        "print(tokenizer.word_index)\n",
        "print(total_words)\n"
      ],
      "execution_count": 28,
      "outputs": [
        {
          "output_type": "stream",
          "name": "stdout",
          "text": [
            "{'i': 1, 'to': 2, 'my': 3, 'the': 4, 'you': 5, 'a': 6, \"i'm\": 7, 'and': 8, 'know': 9, 'it': 10, 'me': 11, 'but': 12, 'oh': 13, 'on': 14, 'that': 15, 'of': 16, 'is': 17, 'in': 18, \"don't\": 19, 'we': 20, 'for': 21, 'be': 22, 'they': 23, 'when': 24, 'will': 25, 'take': 26, 'all': 27, \"it's\": 28, 'ah': 29, 'no': 30, 'this': 31, 'time': 32, 'now': 33, \"i've\": 34, \"i'll\": 35, 'na': 36, 'with': 37, 'our': 38, 'just': 39, 'out': 40, 'have': 41, 'what': 42, 'been': 43, 'let': 44, 'think': 45, 'if': 46, 'used': 47, 'so': 48, 'sleep': 49, 'much': 50, \"you're\": 51, 'would': 52, 'one': 53, 'are': 54, 'your': 55, 'back': 56, 'yeah': 57, 'could': 58, 'need': 59, 'trying': 60, 'jumpsuit': 61, 'where': 62, 'wish': 63, 'good': 64, 'about': 65, 'too': 66, 'thinking': 67, 'beat': 68, 'can': 69, 'make': 70, 'at': 71, 'up': 72, 'ever': 73, 'pretend': 74, 'way': 75, 'want': 76, 'alive': 77, 'play': 78, 'not': 79, 'forget': 80, 'than': 81, 'sang': 82, 'old': 83, 'us': 84, 'say': 85, \"can't\": 86, \"we're\": 87, 'face': 88, 'lean': 89, 'vibe': 90, \"she's\": 91, 'care': 92, 'stressed': 93, 'from': 94, 'money': 95, 'keep': 96, 'going': 97, 'please': 98, 'believe': 99, 'almost': 100, 'get': 101, 'turn': 102, 'days': 103, \"'cause\": 104, 'away': 105, 'stay': 106, 'who': 107, 'taking': 108, 'am': 109, 'around': 110, 'pride': 111, 'over': 112, 'moment': 113, 'highway': 114, 'heart': 115, 'momma': 116, 'sometimes': 117, 'far': 118, 'mind': 119, 'do': 120, 'like': 121, 'chemical': 122, 'feel': 123, 'hello': 124, \"you'll\": 125, 'go': 126, 'lane': 127, 'boy': 128, 'sit': 129, 'faith': 130, 'cover': 131, 'had': 132, 'how': 133, \"i'd\": 134, 'house': 135, 'then': 136, \"that's\": 137, 'down': 138, 'or': 139, 'hype': 140, 'low': 141, 'free': 142, 'holding': 143, 'tear': 144, 'some': 145, 'better': 146, 'only': 147, 'build': 148, 'wake': 149, 'them': 150, 'these': 151, 'though': 152, 'cut': 153, 'by': 154, 'hands': 155, 'guns': 156, 'behind': 157, 'high': 158, 'somebody': 159, 'entertain': 160, 'judge': 161, 'set': 162, 'was': 163, 'never': 164, \"they're\": 165, 'ride': 166, 'even': 167, 'help': 168, 'someone': 169, 'moving': 170, 'breath': 171, 'fine': 172, 'thing': 173, 'anyone': 174, 'found': 175, \"name's\": 176, 'blurryface': 177, 'different': 178, 'hard': 179, 'falling': 180, 'as': 181, 'lip': 182, 'medical': 183, 'inside': 184, 'made': 185, 'hey': 186, 'friends': 187, 'should': 188, 'road': 189, 'ban': 190, 'bandito': 191, 'fire': 192, 'folina': 193, 'sahlo': 194, 'tomorrow': 195, 'car': 196, 'silence': 197, 'people': 198, 'come': 199, 'sell': 200, 'give': 201, 'other': 202, 'ship': 203, \"we'd\": 204, 'dream': 205, 'wanna': 206, 'see': 207, 'life': 208, 'head': 209, 'might': 210, 'lion': 211, \"sippin'\": 212, 'straight': 213, 'chlorine': 214, 'leave': 215, 'two': 216, 'catch': 217, 'without': 218, 'got': 219, 'mean': 220, 'trees': 221, 'ask': 222, 'next': 223, 'record': 224, 'song': 225, 'side': 226, 'hear': 227, 'alone': 228, 'an': 229, 'new': 230, 'nothing': 231, 'each': 232, 'names': 233, 'rocket': 234, 'fly': 235, 'outer': 236, 'space': 237, 'laughing': 238, 'saying': 239, 'there': 240, \"let's\": 241, 'left': 242, 'well': 243, \"runnin'\": 244, 'li': 245, 'fe': 246, 'terrible': 247, 'thoughts': 248, 'something': 249, 'silent': 250, 'heathens': 251, 'slow': 252, 'wait': 253, 'sitting': 254, 'trust': 255, 'feeling': 256, 'step': 257, 'show': 258, 'nice': 259, 'throat': 260, 'pain': 261, 'sound': 262, \"there's\": 263, 'radio': 264, 'fill': 265, 'stop': 266, 'place': 267, 'right': 268, 'gone': 269, 'goner': 270, 'known': 271, 'find': 272, 'pieces': 273, 'through': 274, 'which': 275, 'asked': 276, 'turns': 277, 'plans': 278, 'bruised': 279, 'contusions': 280, 'blood': 281, 'abuse': 282, 'hate': 283, 'scared': 284, 'death': 285, 'doubt': 286, 'why': 287, 'any': 288, 'change': 289, 'here': 290, 'watch': 291, 'world': 292, 'kind': 293, 'sight': 294, 'shadows': 295, 'scream': 296, 'brain': 297, 'has': 298, 'city': 299, 'close': 300, 'gonna': 301, \"ain't\": 302, 'rhyme': 303, 'every': 304, 'smell': 305, 'coming': 306, 'try': 307, 'probably': 308, 'same': 309, 'really': 310, 'die': 311, 'bullet': 312, 'room': 313, 'she': 314, 'son': 315, 'grow': 316, 'buy': 317, 'gold': 318, 'father': 319, 'stone': 320, 'their': 321, 'tongue': 322, \"lovin'\": 323, 'last': 324, 'said': 325, 'forgot': 326, 'fear': 327, 'sudden': 328, 'moves': 329, 'half': 330, 'door': 331, 'messed': 332, 'her': 333, 'waging': 334, 'wars': 335, 'above': 336, 'seems': 337, \"we've\": 338, 'songs': 339, 'often': 340, 'ought': 341, 'replace': 342, 'slot': 343, 'once': 344, 'bought': 345, 'stole': 346, 'pressures': 347, 'roll': 348, 'underneath': 349, 'more': 350, 'surrounding': 351, 'surroundings': 352, 'rock': 353, 'lyrics': 354, 'were': 355, 'gifted': 356, 'thought': 357, 'move': 358, 'feet': 359, 'introspective': 360, 'speakers': 361, 'bump': 362, 'hearts': 363, 'holes': 364, \"one's\": 365, 'heard': 366, 'words': 367, 'chords': 368, 'certain': 369, 'brother': 370, 'tree': 371, 'sun': 372, 'peace': 373, 'list': 374, 'seem': 375, 'live': 376, 'write': 377, 'still': 378, 'put': 379, 'after': 380, 'rust': 381, 'rim': 382, 'drink': 383, 'anyway': 384, \"isn't\": 385, 'while': 386, 'vibes': 387, 'slide': 388, 'save': 389, 'seat': 390, 'complete': 391, 'body': 392, 'lead': 393, 'fight': 394, 'own': 395, \"what's\": 396, 'skin': 397, 'hope': 398, \"won't\": 399, 'happen': 400, 'day': 401, 'always': 402, 'stepping': 403, 'towards': 404, 'describe': 405, 'dude': 406, 'bigger': 407, 'weigh': 408, '153': 409, 'smithereens': 410, 'off': 411, 'migraine': 412, 'range': 413, 'best': 414, 'kid': 415, 'violent': 416, 'gotta': 417, 'break': 418, 'bleed': 419, 'control': 420, 'music': 421, 'shows': 422, 'he': 423, 'ponder': 424, 'hide': 425, 'driving': 426, 'tie': 427, 'both': 428, 'lot': 429, 'before': 430, 'soul': 431, 'tell': 432, 'takes': 433, 'higher': 434, 'okay': 435, 'whole': 436, 'his': 437, 'him': 438, \"soul's\": 439, 'freezing': 440, \"hell's\": 441, 'reason': 442, 'faces': 443, 'weak': 444, 'beaten': 445, 'slip': 446, 'into': 447, 'ghost': 448, 'sounds': 449, 'voice': 450, 'order': 451, \"didn't\": 452, 'told': 453, 'older': 454, 'fears': 455, 'shrink': 456, 'insecure': 457, 'young': 458, 'able': 459, 'identify': 460, 'candle': 461, \"it'd\": 462, 'nose': 463, 'clothes': 464, 'homegrown': 465, \"stone's\": 466, 'throw': 467, 'creek': 468, 'roam': 469, 'remind': 470, 'mattered': 471, 'student': 472, 'loans': 473, 'homes': 474, 'latter': 475, 'fun': 476, 'fantasize': 477, 'many': 478, 'bullets': 479, 'harder': 480, 'home': 481, 'talking': 482, 'kill': 483, 'turned': 484, \"we'll\": 485, 'dead': 486, 'plan': 487, 'decide': 488, 'walls': 489, 'rebel': 490, 'red': 491, 'felt': 492, 'lives': 493, 'until': 494, 'love': 495, 'sorry': 496, 'tested': 497, 'sea': 498, 'temperature': 499, 'dropping': 500, 'sure': 501, 'again': 502, \"haven't\": 503, 'stand': 504, 'speak': 505, 'standing': 506, 'cowardly': 507, 'because': 508, 'deal': 509, 'did': 510, 'stayed': 511, 'outside': 512, 'looks': 513, 'collected': 514, 'look': 515, 'needs': 516, 'burnt': 517, 'cause': 518, 'sundays': 519, 'dismal': 520, 'contents': 521, 'win': 522, 'begin': 523, 'game': 524, 'played': 525, 'hold': 526, 'frozen': 527, 'hopeful': 528, 'undertone': 529, 'between': 530, 'proof': 531, 'echo': 532, 'enough': 533, 'created': 534, 'destroy': 535, 'sing': 536, \"mind's\": 537, \"wasn't\": 538, 'fought': 539, 'hearing': 540, 'heartless': 541, 'perfect': 542, 'person': 543, 'flawless': 544, 'bit': 545, 'mask': 546, 'great': 547, 'lungs': 548, 'deflate': 549, 'exhale': 550, 'desire': 551, 'dire': 552, 'today': 553, 'things': 554, 'awake': 555, 'grab': 556, 'lift': 557, 'air': 558, 'lost': 559, \"'s\": 560, 'flesh': 561, 'sounding': 562, 'mountain': 563, 'twisting': 564, 'kaleidoscope': 565, 'eyes': 566, 'noose': 567, 'must': 568, 'fell': 569, 'asleep': 570, 'drove': 571, 'avoid': 572, 'cursing': 573, 'government': 574, 'using': 575, 'taxes': 576, 'cement': 577, 'armor': 578, 'carver': 579, 'butcher': 580, 'smile': 581, 'farther': 582, 'wrong': 583, 'plead': 584, 'case': 585, 'surrender': 586, 'revel': 587, 'devil': 588, 'year': 589, 'pace': 590, \"blurry's\": 591, 'ow': 592, 'safety': 593, 'together': 594, 'simply': 595, \"sun's\": 596, 'end': 597, 'enemies': 598, \"wouldn't\": 599, 'easy': 600, 'everybody': 601, 'metaphorically': 602, 'man': 603, 'literally': 604, 'true': 605, 'tonight': 606, 'ignore': 607, 'questions': 608, 'forming': 609, 'queen': 610, 'everything': 611, 'map': 612, 'cure': 613, 'disease': 614, 'town': 615, 'future': 616, 'upside': 617, 'lived': 618, 'happily': 619, 'since': 620, 'dreams': 621, 'bum': 622, 'become': 623, 'little': 624, \"tastin'\": 625, 'venom': 626, 'dependant': 627, 'times': 628, 'poisonous': 629, 'vibration': 630, 'run': 631, 'fall': 632, 'formation': 633, 'escape': 634, 'confined': 635, 'carnation': 636, 'grows': 637, 'decay': 638, 'coat': 639, 'pocket': 640, 'kept': 641, 'invincible': 642, 'wrapped': 643, 'lines': 644, 'may': 645, 'read': 646, 'incorrect': 647, 'flavor': 648, 'double': 649, 'papermaker': 650, 'despise': 651, 'speed': 652, 'ends': 653, 'weathered': 654, 'flag': 655, 'image': 656, 'immaturity': 657, 'ceiling': 658, 'uncertainty': 659, 'leads': 660, 'anxiety': 661, 'stopping': 662, 'shaking': 663, 'dark': 664, 'parts': 665, 'gnawing': 666, 'bishops': 667, 'claw': 668, 'system': 669, 'repeating': 670, 'simple': 671, 'phrases': 672, 'holy': 673, 'insisted': 674, 'markings': 675, 'welcome': 676, 'rooms': 677, 'loved': 678, 'stocked': 679, 'check': 680, \"doesn't\": 681, 'brains': 682, 'hand': 683, 'grenades': 684, 'psychopath': 685, 'murderer': 686, \"how'd\": 687, 'outsiders': 688, 'very': 689, 'newcomers': 690, 'issues': 691, 'mention': 692, 'intentions': 693, 'freakshow': 694, 'weird': 695, \"why'd\": 696, 'knew': 697, 'tried': 698, 'warn': 699, 'ready': 700, 'bust': 701, 'calm': 702, 'chill': 703, 'conflict': 704, 'thrill': 705, 'corner': 706, 'notes': 707, 'six': 708, 'working': 709, 'votes': 710, 'slick': 711, 'girl': 712, 'cold': 713, 'paralyzed': 714, 'interior': 715, 'sanitize': 716, 'dissipate': 717, 'basement': 718, 'tapes': 719, 'exterior': 720, 'instead': 721, 'warmer': 722, 'shirt': 723, 'thick': 724, 'getting': 725, 'sideways': 726, 'thank': 727, 'god': 728, 'friday': 729, 'fridays': 730, 'suicide': 731, 'thunderstorms': 732, 'clouds': 733, 'snow': 734, 'slight': 735, 'drizzle': 736, 'whether': 737, 'weather': 738, 'letters': 739, 'bed': 740, 'headache': 741, 'represents': 742, 'defending': 743, 'suspense': 744, 'suspended': 745, 'defenseless': 746, 'test': 747, 'being': 748, 'ruthless': 749, 'examiner': 750, 'represented': 751, 'depressing': 752, \"writer's\": 753, 'block': 754, 'writer': 755, 'hates': 756, 'clock': 757, 'guess': 758, 'pardon': 759, 'yelling': 760, 'telling': 761, 'green': 762, 'gardens': 763, 'growing': 764, 'psyche': 765, 'difficult': 766, 'beast': 767, 'feasting': 768, 'freeze': 769, 'frame': 770, 'paint': 771, 'mental': 772, 'picture': 773, 'portrait': 774, 'forehead': 775, \"hold's\": 776, 'makes': 777, \"pandora's\": 778, 'box': 779, 'non': 780, 'eyelids': 781, 'islands': 782, 'violence': 783, 'wrecked': 784, 'land': 785, 'such': 786, 'island': 787, 'full': 788, 'tidal': 789, 'waves': 790, 'suicidal': 791, 'crazed': 792, 'lions': 793, 'eat': 794, 'running': 795, 'chin': 796, 'assemble': 797, 'weapons': 798, 'places': 799, 'spirit': 800, 'contained': 801, 'neon': 802, 'glass': 803, 'form': 804, 'recently': 805, 'discovered': 806, 'heatless': 807, 'nicknames': 808, 'themselves': 809, 'uninspire': 810, 'add': 811, \"fear's\": 812, 'rival': 813, 'relative': 814, 'truth': 815, 'either': 816, 'helps': 817, 'bounce': 818, 'softest': 819, 'tempo': 820, 'changed': 821, 'raised': 822, 'hood': 823, 'darkness': 824, 'regardless': 825, 'honest': 826, 'few': 827, 'common': 828, 'constant': 829, 'confrontation': 830, \"poppin'\": 831, 'industry': 832, 'singles': 833, 'currency': 834, \"creativity's\": 835, 'playing': 836, 'question': 837, 'hazmat': 838, 'gas': 839, 'zack': 840, \"he's\": 841, 'likes': 842, 'rap': 843, 'fast': 844, 'backtrack': 845, 'problem': 846, 'another': 847, 'exists': 848, 'wants': 849, 'sanity': 850, 'salary': 851, 'vanity': 852, 'morality': 853, 'heat': 854, 'cavalry': 855, 'quiet': 856, 'longer': 857, 'sleeve': 858, 'reminding': 859, 'killed': 860, 'hiding': 861, 'forced': 862, 'distraction': 863, 'real': 864, 'pull': 865, 'steering': 866, 'wheel': 867, 'terrifying': 868, 'course': 869, 'human': 870, 'existence': 871, 'consists': 872, 'consistence': 873, 'battling': 874, 'dear': 875, 'deep': 876, 'liked': 877, 'work': 878, 'choose': 879, 'lose': 880, 'pick': 881, 'across': 882, 'dying': 883, 'crumble': 884, 'weight': 885, 'spirits': 886, 'friend': 887, 'foe': 888, 'youth': 889, 'dusting': 890, 'shotty': 891, 'bet': 892, 't': 893, 'uncrossed': 894, 'undotted': 895, \"must'a\": 896, 'open': 897, 'closed': 898, 'story': 899, 'unfolds': 900, 'remember': 901, 'exactly': 902, \"goin'\": 903, \"slowin'\": 904, 'rolling': 905, 'windowsill': 906, 'twice': 907, 'happens': 908, 'night': 909, 'ignite': 910, 'loose': 911, 'belong': 912, 'leash': 913, 'news': 914, 'obey': 915, 'taste': 916, 'leader': 917, 'bad': 918, 'guys': 919, 'soft': 920, 'soaked': 921, 'secret': 922, 'hideaway': 923, \"must've\": 924, 'cranked': 925, 'those': 926, 'four': 927, 'declared': 928, 'insane': 929, 'hot': 930, 'three': 931, 'lights': 932, 'lit': 933, 'fourth': 934, 'darker': 935, \"night's\": 936, 'bout': 937, 'drought': 938, 'light': 939, 'bulbs': 940, 'route': 941, 'heading': 942, 'south': 943, 'directions': 944, 'mouth': 945, 'pro': 946, 'imperfections': 947, 'clear': 948, 'loud': 949, \"'wow\": 950, \"should've\": 951, \"house'\": 952, 'tired': 953, 'tending': 954, 'singed': 955, 'glowing': 956, 'embers': 957, 'barely': 958, 'showing': 959, 'dancing': 960, 'burning': 961, 'concerning': 962, 'goes': 963, 'glorious': 964, 'comes': 965, 'details': 966, 'beyond': 967, 'needed': 968, \"couldn't\": 969, 'hastily': 970, 'trench': 971, 'facing': 972, 'morning': 973, 'shines': 974, 'ground': 975, 'done': 976, 'swearing': 977, 'parents': 978, 'means': 979, 'second': 980, 'breathe': 981, 'window': 982, 'join': 983, 'understand': 984, 'trade': 985, 'thumbs': 986, 'ammunition': 987, 'forewarn': 988, 'disorder': 989, 'condition': 990, 'sets': 991, 'upsets': 992, 'invested': 993, 'interest': 994, 'interested': 995, 'putting': 996, 'fingers': 997, 'solution': 998, 'mutant': 999, 'kids': 1000, 'fused': 1001, 'wrist': 1002, 'shoot': 1003, 'suggest': 1004, 'chest': 1005, 'confused': 1006, 'obviously': 1007, 'fist': 1008}\n",
            "1009\n"
          ]
        }
      ]
    },
    {
      "cell_type": "code",
      "metadata": {
        "id": "soPGVheskaQP"
      },
      "source": [
        "input_sequences = []\n",
        "for line in corpus:\n",
        "\ttoken_list = tokenizer.texts_to_sequences([line])[0]\n",
        "\tfor i in range(1, len(token_list)):\n",
        "\t\tn_gram_sequence = token_list[:i+1]\n",
        "\t\tinput_sequences.append(n_gram_sequence)\n",
        "\n",
        "# pad sequences \n",
        "max_sequence_len = max([len(x) for x in input_sequences])\n",
        "input_sequences = np.array(pad_sequences(input_sequences, maxlen=max_sequence_len, padding='pre'))\n",
        "\n",
        "# create predictors and label\n",
        "xs, labels = input_sequences[:,:-1],input_sequences[:,-1]\n",
        "\n",
        "ys = tf.keras.utils.to_categorical(labels, num_classes=total_words)"
      ],
      "execution_count": 29,
      "outputs": []
    },
    {
      "cell_type": "code",
      "metadata": {
        "id": "pJtwVB2NbOAP",
        "colab": {
          "base_uri": "https://localhost:8080/"
        },
        "outputId": "9f108bcc-f457-4d2a-d2c1-df83c5639a7e"
      },
      "source": [
        "print(tokenizer.word_index['in'])\n",
        "print(tokenizer.word_index['the'])\n",
        "print(tokenizer.word_index['town'])\n",
        "print(tokenizer.word_index['of'])\n",
        "print(tokenizer.word_index['one'])\n",
        "print(tokenizer.word_index['stressed'])"
      ],
      "execution_count": 30,
      "outputs": [
        {
          "output_type": "stream",
          "name": "stdout",
          "text": [
            "18\n",
            "4\n",
            "615\n",
            "16\n",
            "53\n",
            "93\n"
          ]
        }
      ]
    },
    {
      "cell_type": "code",
      "metadata": {
        "id": "49Cv68JOakwv",
        "colab": {
          "base_uri": "https://localhost:8080/"
        },
        "outputId": "0ed7e6e3-3659-4694-d003-3389062ef11b"
      },
      "source": [
        "print(xs[6])"
      ],
      "execution_count": 31,
      "outputs": [
        {
          "output_type": "stream",
          "name": "stdout",
          "text": [
            "[  0   0   0   0   0   0   0   1  63   1 175 145 146 449]\n"
          ]
        }
      ]
    },
    {
      "cell_type": "code",
      "metadata": {
        "id": "iY-jwvfgbEF8",
        "colab": {
          "base_uri": "https://localhost:8080/"
        },
        "outputId": "a8ff1709-f678-4911-c99d-5ea50a2a4c33"
      },
      "source": [
        "print(ys[6])"
      ],
      "execution_count": 32,
      "outputs": [
        {
          "output_type": "stream",
          "name": "stdout",
          "text": [
            "[0. 0. 0. ... 0. 0. 0.]\n"
          ]
        }
      ]
    },
    {
      "cell_type": "code",
      "metadata": {
        "id": "wtzlUMYadhKt",
        "colab": {
          "base_uri": "https://localhost:8080/"
        },
        "outputId": "fdcf1c30-6ec5-4590-ee67-39237c1d6981"
      },
      "source": [
        "print(xs[5])\n",
        "print(ys[5])"
      ],
      "execution_count": 33,
      "outputs": [
        {
          "output_type": "stream",
          "name": "stdout",
          "text": [
            "[  0   0   0   0   0   0   0   0   1  63   1 175 145 146]\n",
            "[0. 0. 0. ... 0. 0. 0.]\n"
          ]
        }
      ]
    },
    {
      "cell_type": "code",
      "metadata": {
        "id": "w9vH8Y59ajYL",
        "colab": {
          "base_uri": "https://localhost:8080/"
        },
        "outputId": "17e9655f-5962-4e31-e303-1b7657982eb7"
      },
      "source": [
        "model = Sequential()\n",
        "model.add(Embedding(total_words, 100, input_length=max_sequence_len-1))\n",
        "model.add(Bidirectional(LSTM(150)))\n",
        "model.add(Dense(total_words, activation='softmax'))\n",
        "adam = Adam(learning_rate=0.01)\n",
        "model.compile(loss='categorical_crossentropy', optimizer=adam, metrics=['accuracy'])\n",
        "#earlystop = EarlyStopping(monitor='val_loss', min_delta=0, patience=5, verbose=0, mode='auto')\n",
        "history = model.fit(xs, ys, epochs=100, verbose=1)\n",
        "#print model.summary()\n",
        "print(model)\n"
      ],
      "execution_count": 34,
      "outputs": [
        {
          "output_type": "stream",
          "name": "stdout",
          "text": [
            "Epoch 1/100\n",
            "204/204 [==============================] - 18s 57ms/step - loss: 5.4021 - accuracy: 0.1052\n",
            "Epoch 2/100\n",
            "204/204 [==============================] - 2s 9ms/step - loss: 3.2044 - accuracy: 0.4231\n",
            "Epoch 3/100\n",
            "204/204 [==============================] - 2s 8ms/step - loss: 1.9448 - accuracy: 0.5938\n",
            "Epoch 4/100\n",
            "204/204 [==============================] - 1s 6ms/step - loss: 1.2738 - accuracy: 0.6965\n",
            "Epoch 5/100\n",
            "204/204 [==============================] - 2s 8ms/step - loss: 0.8730 - accuracy: 0.7837\n",
            "Epoch 6/100\n",
            "204/204 [==============================] - 2s 9ms/step - loss: 0.6619 - accuracy: 0.8315\n",
            "Epoch 7/100\n",
            "204/204 [==============================] - 3s 16ms/step - loss: 0.5524 - accuracy: 0.8536\n",
            "Epoch 8/100\n",
            "204/204 [==============================] - 2s 9ms/step - loss: 0.5035 - accuracy: 0.8626\n",
            "Epoch 9/100\n",
            "204/204 [==============================] - 1s 7ms/step - loss: 0.4746 - accuracy: 0.8670\n",
            "Epoch 10/100\n",
            "204/204 [==============================] - 1s 7ms/step - loss: 0.4470 - accuracy: 0.8724\n",
            "Epoch 11/100\n",
            "204/204 [==============================] - 1s 7ms/step - loss: 0.4316 - accuracy: 0.8735\n",
            "Epoch 12/100\n",
            "204/204 [==============================] - 1s 6ms/step - loss: 0.4204 - accuracy: 0.8736\n",
            "Epoch 13/100\n",
            "204/204 [==============================] - 2s 9ms/step - loss: 0.4197 - accuracy: 0.8744\n",
            "Epoch 14/100\n",
            "204/204 [==============================] - 2s 8ms/step - loss: 0.4126 - accuracy: 0.8716\n",
            "Epoch 15/100\n",
            "204/204 [==============================] - 1s 6ms/step - loss: 0.4081 - accuracy: 0.8770\n",
            "Epoch 16/100\n",
            "204/204 [==============================] - 1s 6ms/step - loss: 0.4030 - accuracy: 0.8756\n",
            "Epoch 17/100\n",
            "204/204 [==============================] - 1s 6ms/step - loss: 0.4051 - accuracy: 0.8753\n",
            "Epoch 18/100\n",
            "204/204 [==============================] - 1s 6ms/step - loss: 0.4066 - accuracy: 0.8718\n",
            "Epoch 19/100\n",
            "204/204 [==============================] - 1s 7ms/step - loss: 0.4145 - accuracy: 0.8729\n",
            "Epoch 20/100\n",
            "204/204 [==============================] - 1s 6ms/step - loss: 2.2828 - accuracy: 0.5216\n",
            "Epoch 21/100\n",
            "204/204 [==============================] - 1s 7ms/step - loss: 1.5809 - accuracy: 0.6374\n",
            "Epoch 22/100\n",
            "204/204 [==============================] - 2s 9ms/step - loss: 0.9044 - accuracy: 0.7642\n",
            "Epoch 23/100\n",
            "204/204 [==============================] - 2s 7ms/step - loss: 0.6108 - accuracy: 0.8295\n",
            "Epoch 24/100\n",
            "204/204 [==============================] - 1s 6ms/step - loss: 0.4807 - accuracy: 0.8647\n",
            "Epoch 25/100\n",
            "204/204 [==============================] - 1s 6ms/step - loss: 0.4324 - accuracy: 0.8773\n",
            "Epoch 26/100\n",
            "204/204 [==============================] - 1s 6ms/step - loss: 0.4251 - accuracy: 0.8727\n",
            "Epoch 27/100\n",
            "204/204 [==============================] - 1s 6ms/step - loss: 0.4189 - accuracy: 0.8744\n",
            "Epoch 28/100\n",
            "204/204 [==============================] - 1s 6ms/step - loss: 0.4038 - accuracy: 0.8753\n",
            "Epoch 29/100\n",
            "204/204 [==============================] - 1s 7ms/step - loss: 0.4039 - accuracy: 0.8776\n",
            "Epoch 30/100\n",
            "204/204 [==============================] - 1s 7ms/step - loss: 0.4017 - accuracy: 0.8713\n",
            "Epoch 31/100\n",
            "204/204 [==============================] - 2s 9ms/step - loss: 0.3992 - accuracy: 0.8739\n",
            "Epoch 32/100\n",
            "204/204 [==============================] - 2s 8ms/step - loss: 0.3942 - accuracy: 0.8733\n",
            "Epoch 33/100\n",
            "204/204 [==============================] - 1s 6ms/step - loss: 0.3936 - accuracy: 0.8750\n",
            "Epoch 34/100\n",
            "204/204 [==============================] - 1s 6ms/step - loss: 0.3933 - accuracy: 0.8736\n",
            "Epoch 35/100\n",
            "204/204 [==============================] - 1s 6ms/step - loss: 0.3884 - accuracy: 0.8744\n",
            "Epoch 36/100\n",
            "204/204 [==============================] - 1s 6ms/step - loss: 0.3887 - accuracy: 0.8721\n",
            "Epoch 37/100\n",
            "204/204 [==============================] - 1s 6ms/step - loss: 0.3896 - accuracy: 0.8759\n",
            "Epoch 38/100\n",
            "204/204 [==============================] - 1s 6ms/step - loss: 0.3924 - accuracy: 0.8753\n",
            "Epoch 39/100\n",
            "204/204 [==============================] - 1s 6ms/step - loss: 0.3873 - accuracy: 0.8733\n",
            "Epoch 40/100\n",
            "204/204 [==============================] - 2s 9ms/step - loss: 0.3990 - accuracy: 0.8707\n",
            "Epoch 41/100\n",
            "204/204 [==============================] - 2s 7ms/step - loss: 1.6803 - accuracy: 0.6333\n",
            "Epoch 42/100\n",
            "204/204 [==============================] - 1s 6ms/step - loss: 1.8540 - accuracy: 0.6083\n",
            "Epoch 43/100\n",
            "204/204 [==============================] - 1s 7ms/step - loss: 1.0011 - accuracy: 0.7436\n",
            "Epoch 44/100\n",
            "204/204 [==============================] - 1s 6ms/step - loss: 0.6357 - accuracy: 0.8286\n",
            "Epoch 45/100\n",
            "204/204 [==============================] - 1s 6ms/step - loss: 0.4902 - accuracy: 0.8614\n",
            "Epoch 46/100\n",
            "204/204 [==============================] - 1s 6ms/step - loss: 0.4431 - accuracy: 0.8715\n",
            "Epoch 47/100\n",
            "204/204 [==============================] - 1s 6ms/step - loss: 0.4176 - accuracy: 0.8768\n",
            "Epoch 48/100\n",
            "204/204 [==============================] - 2s 8ms/step - loss: 0.4140 - accuracy: 0.8718\n",
            "Epoch 49/100\n",
            "204/204 [==============================] - 2s 11ms/step - loss: 0.4075 - accuracy: 0.8748\n",
            "Epoch 50/100\n",
            "204/204 [==============================] - 1s 6ms/step - loss: 0.4086 - accuracy: 0.8762\n",
            "Epoch 51/100\n",
            "204/204 [==============================] - 1s 6ms/step - loss: 0.4050 - accuracy: 0.8756\n",
            "Epoch 52/100\n",
            "204/204 [==============================] - 1s 6ms/step - loss: 0.4017 - accuracy: 0.8753\n",
            "Epoch 53/100\n",
            "204/204 [==============================] - 1s 6ms/step - loss: 0.4042 - accuracy: 0.8756\n",
            "Epoch 54/100\n",
            "204/204 [==============================] - 1s 7ms/step - loss: 0.3962 - accuracy: 0.8744\n",
            "Epoch 55/100\n",
            "204/204 [==============================] - 1s 7ms/step - loss: 0.4048 - accuracy: 0.8722\n",
            "Epoch 56/100\n",
            "204/204 [==============================] - 1s 6ms/step - loss: 0.3973 - accuracy: 0.8759\n",
            "Epoch 57/100\n",
            "204/204 [==============================] - 2s 8ms/step - loss: 0.4018 - accuracy: 0.8729\n",
            "Epoch 58/100\n",
            "204/204 [==============================] - 2s 8ms/step - loss: 0.3997 - accuracy: 0.8761\n",
            "Epoch 59/100\n",
            "204/204 [==============================] - 1s 6ms/step - loss: 0.4042 - accuracy: 0.8715\n",
            "Epoch 60/100\n",
            "204/204 [==============================] - 1s 6ms/step - loss: 0.4033 - accuracy: 0.8735\n",
            "Epoch 61/100\n",
            "204/204 [==============================] - 1s 6ms/step - loss: 0.4156 - accuracy: 0.8735\n",
            "Epoch 62/100\n",
            "204/204 [==============================] - 1s 6ms/step - loss: 1.2494 - accuracy: 0.6949\n",
            "Epoch 63/100\n",
            "204/204 [==============================] - 1s 6ms/step - loss: 1.4718 - accuracy: 0.6627\n",
            "Epoch 64/100\n",
            "204/204 [==============================] - 1s 6ms/step - loss: 0.8670 - accuracy: 0.7718\n",
            "Epoch 65/100\n",
            "204/204 [==============================] - 1s 6ms/step - loss: 0.6027 - accuracy: 0.8326\n",
            "Epoch 66/100\n",
            "204/204 [==============================] - 2s 8ms/step - loss: 0.4781 - accuracy: 0.8580\n",
            "Epoch 67/100\n",
            "204/204 [==============================] - 2s 8ms/step - loss: 0.4349 - accuracy: 0.8707\n",
            "Epoch 68/100\n",
            "204/204 [==============================] - 1s 6ms/step - loss: 0.4171 - accuracy: 0.8719\n",
            "Epoch 69/100\n",
            "204/204 [==============================] - 1s 6ms/step - loss: 0.4053 - accuracy: 0.8722\n",
            "Epoch 70/100\n",
            "204/204 [==============================] - 1s 6ms/step - loss: 0.4001 - accuracy: 0.8758\n",
            "Epoch 71/100\n",
            "204/204 [==============================] - 1s 6ms/step - loss: 0.3996 - accuracy: 0.8761\n",
            "Epoch 72/100\n",
            "204/204 [==============================] - 1s 6ms/step - loss: 0.3985 - accuracy: 0.8756\n",
            "Epoch 73/100\n",
            "204/204 [==============================] - 1s 6ms/step - loss: 0.4007 - accuracy: 0.8732\n",
            "Epoch 74/100\n",
            "204/204 [==============================] - 1s 6ms/step - loss: 0.3997 - accuracy: 0.8744\n",
            "Epoch 75/100\n",
            "204/204 [==============================] - 2s 7ms/step - loss: 0.3953 - accuracy: 0.8758\n",
            "Epoch 76/100\n",
            "204/204 [==============================] - 2s 9ms/step - loss: 0.3925 - accuracy: 0.8762\n",
            "Epoch 77/100\n",
            "204/204 [==============================] - 1s 6ms/step - loss: 0.3930 - accuracy: 0.8756\n",
            "Epoch 78/100\n",
            "204/204 [==============================] - 1s 6ms/step - loss: 0.3961 - accuracy: 0.8747\n",
            "Epoch 79/100\n",
            "204/204 [==============================] - 1s 6ms/step - loss: 0.3940 - accuracy: 0.8736\n",
            "Epoch 80/100\n",
            "204/204 [==============================] - 1s 6ms/step - loss: 0.3976 - accuracy: 0.8747\n",
            "Epoch 81/100\n",
            "204/204 [==============================] - 1s 6ms/step - loss: 0.4003 - accuracy: 0.8730\n",
            "Epoch 82/100\n",
            "204/204 [==============================] - 1s 6ms/step - loss: 0.4334 - accuracy: 0.8669\n",
            "Epoch 83/100\n",
            "204/204 [==============================] - 1s 6ms/step - loss: 1.1938 - accuracy: 0.7048\n",
            "Epoch 84/100\n",
            "204/204 [==============================] - 1s 7ms/step - loss: 1.2367 - accuracy: 0.6998\n",
            "Epoch 85/100\n",
            "204/204 [==============================] - 2s 9ms/step - loss: 0.7535 - accuracy: 0.7930\n",
            "Epoch 86/100\n",
            "204/204 [==============================] - 1s 6ms/step - loss: 0.5477 - accuracy: 0.8468\n",
            "Epoch 87/100\n",
            "204/204 [==============================] - 1s 6ms/step - loss: 0.4531 - accuracy: 0.8683\n",
            "Epoch 88/100\n",
            "204/204 [==============================] - 1s 6ms/step - loss: 0.4181 - accuracy: 0.8722\n",
            "Epoch 89/100\n",
            "204/204 [==============================] - 1s 6ms/step - loss: 0.4090 - accuracy: 0.8725\n",
            "Epoch 90/100\n",
            "204/204 [==============================] - 1s 6ms/step - loss: 0.3974 - accuracy: 0.8775\n",
            "Epoch 91/100\n",
            "204/204 [==============================] - 1s 7ms/step - loss: 0.4062 - accuracy: 0.8703\n",
            "Epoch 92/100\n",
            "204/204 [==============================] - 1s 6ms/step - loss: 0.3959 - accuracy: 0.8781\n",
            "Epoch 93/100\n",
            "204/204 [==============================] - 1s 7ms/step - loss: 0.3953 - accuracy: 0.8750\n",
            "Epoch 94/100\n",
            "204/204 [==============================] - 2s 9ms/step - loss: 0.3968 - accuracy: 0.8752\n",
            "Epoch 95/100\n",
            "204/204 [==============================] - 1s 7ms/step - loss: 0.4032 - accuracy: 0.8735\n",
            "Epoch 96/100\n",
            "204/204 [==============================] - 1s 6ms/step - loss: 0.3982 - accuracy: 0.8716\n",
            "Epoch 97/100\n",
            "204/204 [==============================] - 1s 6ms/step - loss: 0.3943 - accuracy: 0.8748\n",
            "Epoch 98/100\n",
            "204/204 [==============================] - 1s 6ms/step - loss: 0.3933 - accuracy: 0.8745\n",
            "Epoch 99/100\n",
            "204/204 [==============================] - 1s 6ms/step - loss: 0.3932 - accuracy: 0.8767\n",
            "Epoch 100/100\n",
            "204/204 [==============================] - 1s 6ms/step - loss: 0.3915 - accuracy: 0.8747\n",
            "<keras.engine.sequential.Sequential object at 0x7f6bd027f3a0>\n"
          ]
        }
      ]
    },
    {
      "cell_type": "code",
      "metadata": {
        "id": "3YXGelKThoTT"
      },
      "source": [
        "import matplotlib.pyplot as plt\n",
        "\n",
        "\n",
        "def plot_graphs(history, string):\n",
        "  plt.plot(history.history[string])\n",
        "  plt.xlabel(\"Epochs\")\n",
        "  plt.ylabel(string)\n",
        "  plt.show()"
      ],
      "execution_count": 35,
      "outputs": []
    },
    {
      "cell_type": "code",
      "metadata": {
        "id": "poeprYK8h-c7",
        "colab": {
          "base_uri": "https://localhost:8080/",
          "height": 449
        },
        "outputId": "5e37e178-948c-4e9c-a7f0-96ba3ac2ec8c"
      },
      "source": [
        "plot_graphs(history, 'accuracy')\n"
      ],
      "execution_count": 36,
      "outputs": [
        {
          "output_type": "display_data",
          "data": {
            "text/plain": [
              "<Figure size 640x480 with 1 Axes>"
            ],
            "image/png": "[encoded data removed]"
          },
          "metadata": {}
        }
      ]
    },
    {
      "cell_type": "code",
      "metadata": {
        "id": "6Vc6PHgxa6Hm",
        "colab": {
          "base_uri": "https://localhost:8080/"
        },
        "outputId": "64db2755-4490-419f-d427-163cacb2e135"
      },
      "source": [
        "seed_text = \"Can't stop thinking about if and when I'd die\"\n",
        "next_words = 100\n",
        "  \n",
        "for _ in range(next_words):\n",
        "\ttoken_list = tokenizer.texts_to_sequences([seed_text])[0]\n",
        "\ttoken_list = pad_sequences([token_list], maxlen=max_sequence_len-1, padding='pre')\n",
        "\tpredicted = np.argmax(model.predict(token_list), axis=-1)\n",
        "\toutput_word = \"\"\n",
        "\tfor word, index in tokenizer.word_index.items():\n",
        "\t\tif index == predicted:\n",
        "\t\t\toutput_word = word\n",
        "\t\t\tbreak\n",
        "\tseed_text += \" \" + output_word\n",
        "print(seed_text)"
      ],
      "execution_count": 37,
      "outputs": [
        {
          "output_type": "stream",
          "name": "stdout",
          "text": [
            "1/1 [==============================] - 1s 982ms/step\n",
            "1/1 [==============================] - 0s 44ms/step\n",
            "1/1 [==============================] - 0s 31ms/step\n",
            "1/1 [==============================] - 0s 26ms/step\n",
            "1/1 [==============================] - 0s 26ms/step\n",
            "1/1 [==============================] - 0s 27ms/step\n",
            "1/1 [==============================] - 0s 45ms/step\n",
            "1/1 [==============================] - 0s 32ms/step\n",
            "1/1 [==============================] - 0s 21ms/step\n",
            "1/1 [==============================] - 0s 20ms/step\n",
            "1/1 [==============================] - 0s 23ms/step\n",
            "1/1 [==============================] - 0s 20ms/step\n",
            "1/1 [==============================] - 0s 19ms/step\n",
            "1/1 [==============================] - 0s 20ms/step\n",
            "1/1 [==============================] - 0s 31ms/step\n",
            "1/1 [==============================] - 0s 22ms/step\n",
            "1/1 [==============================] - 0s 22ms/step\n",
            "1/1 [==============================] - 0s 23ms/step\n",
            "1/1 [==============================] - 0s 26ms/step\n",
            "1/1 [==============================] - 0s 20ms/step\n",
            "1/1 [==============================] - 0s 24ms/step\n",
            "1/1 [==============================] - 0s 33ms/step\n",
            "1/1 [==============================] - 0s 19ms/step\n",
            "1/1 [==============================] - 0s 20ms/step\n",
            "1/1 [==============================] - 0s 46ms/step\n",
            "1/1 [==============================] - 0s 40ms/step\n",
            "1/1 [==============================] - 0s 36ms/step\n",
            "1/1 [==============================] - 0s 32ms/step\n",
            "1/1 [==============================] - 0s 53ms/step\n",
            "1/1 [==============================] - 0s 32ms/step\n",
            "1/1 [==============================] - 0s 26ms/step\n",
            "1/1 [==============================] - 0s 31ms/step\n",
            "1/1 [==============================] - 0s 32ms/step\n",
            "1/1 [==============================] - 0s 31ms/step\n",
            "1/1 [==============================] - 0s 37ms/step\n",
            "1/1 [==============================] - 0s 34ms/step\n",
            "1/1 [==============================] - 0s 42ms/step\n",
            "1/1 [==============================] - 0s 36ms/step\n",
            "1/1 [==============================] - 0s 46ms/step\n",
            "1/1 [==============================] - 0s 37ms/step\n",
            "1/1 [==============================] - 0s 37ms/step\n",
            "1/1 [==============================] - 0s 33ms/step\n",
            "1/1 [==============================] - 0s 35ms/step\n",
            "1/1 [==============================] - 0s 65ms/step\n",
            "1/1 [==============================] - 0s 36ms/step\n",
            "1/1 [==============================] - 0s 30ms/step\n",
            "1/1 [==============================] - 0s 30ms/step\n",
            "1/1 [==============================] - 0s 30ms/step\n",
            "1/1 [==============================] - 0s 38ms/step\n",
            "1/1 [==============================] - 0s 31ms/step\n",
            "1/1 [==============================] - 0s 33ms/step\n",
            "1/1 [==============================] - 0s 37ms/step\n",
            "1/1 [==============================] - 0s 36ms/step\n",
            "1/1 [==============================] - 0s 36ms/step\n",
            "1/1 [==============================] - 0s 28ms/step\n",
            "1/1 [==============================] - 0s 49ms/step\n",
            "1/1 [==============================] - 0s 33ms/step\n",
            "1/1 [==============================] - 0s 50ms/step\n",
            "1/1 [==============================] - 0s 32ms/step\n",
            "1/1 [==============================] - 0s 44ms/step\n",
            "1/1 [==============================] - 0s 63ms/step\n",
            "1/1 [==============================] - 0s 43ms/step\n",
            "1/1 [==============================] - 0s 28ms/step\n",
            "1/1 [==============================] - 0s 55ms/step\n",
            "1/1 [==============================] - 0s 35ms/step\n",
            "1/1 [==============================] - 0s 38ms/step\n",
            "1/1 [==============================] - 0s 106ms/step\n",
            "1/1 [==============================] - 0s 92ms/step\n",
            "1/1 [==============================] - 0s 27ms/step\n",
            "1/1 [==============================] - 0s 52ms/step\n",
            "1/1 [==============================] - 0s 39ms/step\n",
            "1/1 [==============================] - 0s 49ms/step\n",
            "1/1 [==============================] - 0s 32ms/step\n",
            "1/1 [==============================] - 0s 29ms/step\n",
            "1/1 [==============================] - 0s 104ms/step\n",
            "1/1 [==============================] - 0s 36ms/step\n",
            "1/1 [==============================] - 0s 54ms/step\n",
            "1/1 [==============================] - 0s 62ms/step\n",
            "1/1 [==============================] - 0s 45ms/step\n",
            "1/1 [==============================] - 0s 34ms/step\n",
            "1/1 [==============================] - 0s 66ms/step\n",
            "1/1 [==============================] - 0s 36ms/step\n",
            "1/1 [==============================] - 0s 31ms/step\n",
            "1/1 [==============================] - 0s 35ms/step\n",
            "1/1 [==============================] - 0s 28ms/step\n",
            "1/1 [==============================] - 0s 37ms/step\n",
            "1/1 [==============================] - 0s 38ms/step\n",
            "1/1 [==============================] - 0s 76ms/step\n",
            "1/1 [==============================] - 0s 28ms/step\n",
            "1/1 [==============================] - 0s 41ms/step\n",
            "1/1 [==============================] - 0s 28ms/step\n",
            "1/1 [==============================] - 0s 110ms/step\n",
            "1/1 [==============================] - 0s 36ms/step\n",
            "1/1 [==============================] - 0s 36ms/step\n",
            "1/1 [==============================] - 0s 81ms/step\n",
            "1/1 [==============================] - 0s 39ms/step\n",
            "1/1 [==============================] - 0s 38ms/step\n",
            "1/1 [==============================] - 0s 65ms/step\n",
            "1/1 [==============================] - 0s 37ms/step\n",
            "1/1 [==============================] - 0s 37ms/step\n",
            "Can't stop thinking about if and when I'd die for you won't forget about my hands yeah this this far kid moves my mind could find i'm all i guess i'll sleep when i'm dead only different this this this time change this one song this this a is believe the sound we this is a violent island was all battling fear i have i have my taxes to take this time on this house with pieces of me i was fought it far time to say this song this like my lungs will range would have these thoughts you no no no no one really mattered the play\n"
          ]
        }
      ]
    }
  ]
}