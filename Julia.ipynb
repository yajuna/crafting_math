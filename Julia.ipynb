{
 "cells": [
  {
   "cell_type": "markdown",
   "metadata": {},
   "source": [
    "# This notebook is for plotting Julia sets. The main reference is: \n",
    "\n",
    "https://blbadger.github.io/julia-sets#plotting-julia-sets-with-python"
   ]
  },
  {
   "cell_type": "code",
   "execution_count": null,
   "metadata": {},
   "outputs": [],
   "source": [
    "import numpy as np \n",
    "import matplotlib.pyplot as plt \n",
    "plt.style.use('dark_background')"
   ]
  },
  {
   "cell_type": "code",
   "execution_count": null,
   "metadata": {},
   "outputs": [],
   "source": [
    "def julia_set(h_range, w_range, max_iterations):\n",
    "\t''' A function to determine the values of the Julia set. Takes\n",
    "\tan array size specified by h_range and w_range, in pixels, along\n",
    "\twith the number of maximum iterations to try.  Returns an array with \n",
    "\tthe number of the last bounded iteration at each array value.\n",
    "\t'''\n",
    "\ty, x = np.ogrid[-1.4: 1.4: h_range*1j, -1.4: 1.4: w_range*1j]\n",
    "\tz_array = x + y*1j\n",
    "\ta = -0.744 + 0.148j\n",
    "\titerations_till_divergence = max_iterations + np.zeros(z_array.shape)\n",
    "\n",
    "\tfor h in range(h_range):\n",
    "\t\tfor w in range(w_range):\n",
    "\t\t\tz = z_array[h][w]\n",
    "\t\t\tfor i in range(max_iterations):\n",
    "\t\t\t\tz = z**2 + a\n",
    "\t\t\t\tif z * np.conj(z) > 4:\n",
    "\t\t\t\t\titerations_till_divergence[h][w] = i\n",
    "\t\t\t\t\tbreak\n",
    "\n",
    "\treturn iterations_till_divergence\n"
   ]
  },
  {
   "cell_type": "markdown",
   "metadata": {},
   "source": [
    "## In the following, change the values of h_range, w_range, and max_iterations to see different figures."
   ]
  },
  {
   "cell_type": "code",
   "execution_count": null,
   "metadata": {},
   "outputs": [],
   "source": [
    "\n",
    "plt.imshow(julia_set(500, 500, 20), cmap='twilight_shifted')\n",
    "plt.axis('off')\n",
    "plt.show()\n",
    "plt.close()"
   ]
  },
  {
   "cell_type": "code",
   "execution_count": null,
   "metadata": {},
   "outputs": [],
   "source": []
  }
 ],
 "metadata": {
  "kernelspec": {
   "display_name": "Python 3",
   "language": "python",
   "name": "python3"
  },
  "language_info": {
   "codemirror_mode": {
    "name": "ipython",
    "version": 3
   },
   "file_extension": ".py",
   "mimetype": "text/x-python",
   "name": "python",
   "nbconvert_exporter": "python",
   "pygments_lexer": "ipython3",
   "version": "3.7.4"
  }
 },
 "nbformat": 4,
 "nbformat_minor": 2
}
